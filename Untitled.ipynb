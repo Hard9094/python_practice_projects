{
 "cells": [
  {
   "cell_type": "code",
   "execution_count": 1,
   "id": "0b6553ae",
   "metadata": {},
   "outputs": [],
   "source": [
    "def fact(n):\n",
    "    \"\"\"assumes that n is an int>0\n",
    "    return n!\"\"\"\n",
    "    result=1\n",
    "    while n>1:\n",
    "        result = result*n\n",
    "        n-=1\n",
    "        return result"
   ]
  },
  {
   "cell_type": "code",
   "execution_count": 2,
   "id": "cb1bf0ab",
   "metadata": {},
   "outputs": [
    {
     "name": "stdout",
     "output_type": "stream",
     "text": [
      "assumes that n is an int>0\n",
      "    return n!\n"
     ]
    }
   ],
   "source": [
    "print(fact.__doc__)"
   ]
  },
  {
   "cell_type": "code",
   "execution_count": null,
   "id": "4dc4bc4a",
   "metadata": {},
   "outputs": [],
   "source": []
  }
 ],
 "metadata": {
  "kernelspec": {
   "display_name": "Python 3 (ipykernel)",
   "language": "python",
   "name": "python3"
  },
  "language_info": {
   "codemirror_mode": {
    "name": "ipython",
    "version": 3
   },
   "file_extension": ".py",
   "mimetype": "text/x-python",
   "name": "python",
   "nbconvert_exporter": "python",
   "pygments_lexer": "ipython3",
   "version": "3.9.12"
  }
 },
 "nbformat": 4,
 "nbformat_minor": 5
}
