{
 "cells": [
  {
   "cell_type": "code",
   "execution_count": 1,
   "id": "0e1f4550",
   "metadata": {},
   "outputs": [
    {
     "name": "stdout",
     "output_type": "stream",
     "text": [
      "[1, 3, 'aefqwfa']\n"
     ]
    }
   ],
   "source": [
    "l1=[1,3,\"aefqwfa\"]\n",
    "print(l1)"
   ]
  },
  {
   "cell_type": "code",
   "execution_count": 2,
   "id": "27a6e667",
   "metadata": {},
   "outputs": [
    {
     "name": "stdout",
     "output_type": "stream",
     "text": [
      "[1, 2, 'dwtfea', ['f', 's', 'r'], [2, 3, 4]]\n"
     ]
    }
   ],
   "source": [
    "l1=[1,2,\"dwtfea\",[\"f\",\"s\",\"r\"],[2,3,4]]\n",
    "print(l1)"
   ]
  },
  {
   "cell_type": "code",
   "execution_count": 3,
   "id": "cc6f5940",
   "metadata": {},
   "outputs": [
    {
     "name": "stdout",
     "output_type": "stream",
     "text": [
      "2\n"
     ]
    }
   ],
   "source": [
    "l1=[1,2,\"dwtfea\",[\"f\",\"s\",\"r\"],[2,3,4]]\n",
    "print(l1[1])"
   ]
  },
  {
   "cell_type": "code",
   "execution_count": 4,
   "id": "625de967",
   "metadata": {},
   "outputs": [
    {
     "name": "stdout",
     "output_type": "stream",
     "text": [
      "6\n"
     ]
    }
   ],
   "source": [
    "l1=[[1,2,3],[3,4,5,6,7]]\n",
    "print(l1[1][3])"
   ]
  },
  {
   "cell_type": "code",
   "execution_count": 5,
   "id": "fd1877bd",
   "metadata": {},
   "outputs": [
    {
     "name": "stdout",
     "output_type": "stream",
     "text": [
      "[34, 3, 4, 5, 6, 7, 1, 8, 9]\n",
      "[34, 3456, 67, 867, 5, 6, 7, 1, 8, 9]\n"
     ]
    }
   ],
   "source": [
    "\n",
    "l2=[2,3,4,5,6,7,1,8,9]\n",
    "l2[0]=34\n",
    "print(l2)\n",
    "l2[1:3]=[3456,67,867]\n",
    "print(l2)"
   ]
  },
  {
   "cell_type": "code",
   "execution_count": 6,
   "id": "33f39550",
   "metadata": {},
   "outputs": [
    {
     "name": "stdout",
     "output_type": "stream",
     "text": [
      "[3, 4, 5, 6, 7, 8, 9, 34, 45, 65, 67]\n",
      "[3, 4, 5, 6, 7, 8, 9, 34, 45657, 573]\n"
     ]
    }
   ],
   "source": [
    "l1=[3,4,5,6,7,8,9]\n",
    "l2=[34,45,65,67]\n",
    "print(l1+l2)\n",
    "print(l1+[34,45657,573])"
   ]
  },
  {
   "cell_type": "code",
   "execution_count": 7,
   "id": "b54e55e1",
   "metadata": {},
   "outputs": [
    {
     "name": "stdout",
     "output_type": "stream",
     "text": [
      "[3, 4, 5, 6, 7, 8, 9, 3, 4, 5, 6, 7, 8, 9, 3, 4, 5, 6, 7, 8, 9]\n"
     ]
    }
   ],
   "source": [
    "print(l1*3)"
   ]
  },
  {
   "cell_type": "code",
   "execution_count": 8,
   "id": "9da98044",
   "metadata": {},
   "outputs": [
    {
     "name": "stdout",
     "output_type": "stream",
     "text": [
      "[3, 4, 5, 7, 8, 9]\n",
      "[7, 8, 9]\n"
     ]
    },
    {
     "ename": "NameError",
     "evalue": "name 'l1' is not defined",
     "output_type": "error",
     "traceback": [
      "\u001b[1;31m---------------------------------------------------------------------------\u001b[0m",
      "\u001b[1;31mNameError\u001b[0m                                 Traceback (most recent call last)",
      "Input \u001b[1;32mIn [8]\u001b[0m, in \u001b[0;36m<cell line: 6>\u001b[1;34m()\u001b[0m\n\u001b[0;32m      4\u001b[0m \u001b[38;5;28mprint\u001b[39m(l1)\n\u001b[0;32m      5\u001b[0m \u001b[38;5;28;01mdel\u001b[39;00m(l1)\n\u001b[1;32m----> 6\u001b[0m \u001b[38;5;28mprint\u001b[39m(\u001b[43ml1\u001b[49m)\n",
      "\u001b[1;31mNameError\u001b[0m: name 'l1' is not defined"
     ]
    }
   ],
   "source": [
    "del(l1[3])\n",
    "print(l1)\n",
    "del(l1[0:3])\n",
    "print(l1)\n",
    "del(l1)\n",
    "print(l1)"
   ]
  },
  {
   "cell_type": "code",
   "execution_count": 9,
   "id": "5669a2af",
   "metadata": {},
   "outputs": [
    {
     "name": "stdout",
     "output_type": "stream",
     "text": [
      "True\n",
      "True\n",
      "True\n"
     ]
    }
   ],
   "source": [
    "l1=['s','e','r','t']\n",
    "l2='r'\n",
    "print(l2 in l1)\n",
    "print('s' in l1)\n",
    "print('c' not in l1)"
   ]
  },
  {
   "cell_type": "code",
   "execution_count": 10,
   "id": "7bbbd24b",
   "metadata": {},
   "outputs": [
    {
     "name": "stdout",
     "output_type": "stream",
     "text": [
      "i like banana\n",
      "i like apple\n",
      "i like pineapple\n"
     ]
    }
   ],
   "source": [
    "s=[\"banana\",\"apple\",'pineapple']\n",
    "for fruit in s:\n",
    "    print(\"i like\",fruit)"
   ]
  },
  {
   "cell_type": "code",
   "execution_count": 11,
   "id": "f9bbbee4",
   "metadata": {},
   "outputs": [
    {
     "name": "stdout",
     "output_type": "stream",
     "text": [
      "['s', 'e', 'r', 't', 'ih']\n"
     ]
    }
   ],
   "source": [
    "l1.append(\"ih\")\n",
    "print(l1)"
   ]
  },
  {
   "cell_type": "code",
   "execution_count": 17,
   "id": "f1b1421e",
   "metadata": {},
   "outputs": [
    {
     "name": "stdout",
     "output_type": "stream",
     "text": [
      "['s', 'e', 'r', 't', 'ih', 3, 4, 5, 3, 4, 5, 3, 4, 5, 3, 4, 5]\n"
     ]
    }
   ],
   "source": [
    "l1.extend([3,4,5])\n",
    "print(l1)"
   ]
  },
  {
   "cell_type": "code",
   "execution_count": 26,
   "id": "4a232976",
   "metadata": {},
   "outputs": [
    {
     "name": "stdout",
     "output_type": "stream",
     "text": [
      "['s', 'e', 'weqd', 'weqd', 'weqd', 'weqd', 'r', 't', 'ih', 3, 4, 5, 3, 4, 5, 3, 4, 5, 3, 4, 5, 'weqd']\n"
     ]
    }
   ],
   "source": [
    "l1.insert(3,\"weqd\")\n",
    "print(l1)"
   ]
  },
  {
   "cell_type": "code",
   "execution_count": 28,
   "id": "a94d8f50",
   "metadata": {},
   "outputs": [
    {
     "ename": "AttributeError",
     "evalue": "'list' object has no attribute 'find'",
     "output_type": "error",
     "traceback": [
      "\u001b[1;31m---------------------------------------------------------------------------\u001b[0m",
      "\u001b[1;31mAttributeError\u001b[0m                            Traceback (most recent call last)",
      "Input \u001b[1;32mIn [28]\u001b[0m, in \u001b[0;36m<cell line: 1>\u001b[1;34m()\u001b[0m\n\u001b[1;32m----> 1\u001b[0m \u001b[43ml1\u001b[49m\u001b[38;5;241;43m.\u001b[39;49m\u001b[43mfind\u001b[49m(\u001b[38;5;124m\"\u001b[39m\u001b[38;5;124m2\u001b[39m\u001b[38;5;124m\"\u001b[39m)\n",
      "\u001b[1;31mAttributeError\u001b[0m: 'list' object has no attribute 'find'"
     ]
    }
   ],
   "source": [
    "l1.find(\"2\")"
   ]
  },
  {
   "cell_type": "code",
   "execution_count": 30,
   "id": "9988565d",
   "metadata": {},
   "outputs": [
    {
     "name": "stdout",
     "output_type": "stream",
     "text": [
      "['s', 'e', 'weqd', 'weqd', 'weqd', 'weqd', 'r', 't', 'ih', 3, 4, 5, 3, 4, 5, 3, 4, 5, 3, 4, 5, 'weqd']\n"
     ]
    }
   ],
   "source": [
    "print(l1)"
   ]
  },
  {
   "cell_type": "code",
   "execution_count": 37,
   "id": "957dd778",
   "metadata": {},
   "outputs": [
    {
     "name": "stdout",
     "output_type": "stream",
     "text": [
      "6\n"
     ]
    }
   ],
   "source": [
    "l1=[1,2,3,4,5,6]\n",
    "del(l1[2])\n",
    "l1.remove(5)\n",
    "print(l1.pop(3))"
   ]
  },
  {
   "cell_type": "code",
   "execution_count": 40,
   "id": "ffe6e1cf",
   "metadata": {},
   "outputs": [
    {
     "ename": "ValueError",
     "evalue": "'2' is not in list",
     "output_type": "error",
     "traceback": [
      "\u001b[1;31m---------------------------------------------------------------------------\u001b[0m",
      "\u001b[1;31mValueError\u001b[0m                                Traceback (most recent call last)",
      "Input \u001b[1;32mIn [40]\u001b[0m, in \u001b[0;36m<cell line: 2>\u001b[1;34m()\u001b[0m\n\u001b[0;32m      1\u001b[0m l1\u001b[38;5;241m=\u001b[39m[\u001b[38;5;241m2\u001b[39m,\u001b[38;5;241m3\u001b[39m,\u001b[38;5;241m4\u001b[39m,\u001b[38;5;241m5\u001b[39m,\u001b[38;5;241m6\u001b[39m,\u001b[38;5;241m7\u001b[39m]\n\u001b[1;32m----> 2\u001b[0m \u001b[38;5;28mprint\u001b[39m(\u001b[43ml1\u001b[49m\u001b[38;5;241;43m.\u001b[39;49m\u001b[43mindex\u001b[49m\u001b[43m(\u001b[49m\u001b[38;5;124;43m\"\u001b[39;49m\u001b[38;5;124;43m2\u001b[39;49m\u001b[38;5;124;43m\"\u001b[39;49m\u001b[43m)\u001b[49m)\n",
      "\u001b[1;31mValueError\u001b[0m: '2' is not in list"
     ]
    }
   ],
   "source": [
    "l1=[2,3,4,5,6,7]\n",
    "print(l1.index(\"2\"))"
   ]
  },
  {
   "cell_type": "code",
   "execution_count": 1,
   "id": "f22bb1db",
   "metadata": {},
   "outputs": [
    {
     "name": "stdout",
     "output_type": "stream",
     "text": [
      "[6, 5, 4, 3, 2]\n",
      "False True\n",
      "True False\n",
      "<enumerate object at 0x000001F9812D4700>\n",
      "[(0, 11), (1, 12), (2, 30), (3, 4)]\n",
      "4\n",
      "30\n",
      "4\n",
      "57\n",
      "[1, 2, 3, 4]\n"
     ]
    }
   ],
   "source": [
    "list1=[2,3,4,5,6]\n",
    "list1.reverse()\n",
    "print(list1)\n",
    "\n",
    "l1=[0,1,2,3,4]\n",
    "l2=[2,3,4]\n",
    "print(all(l1),all(l2))\n",
    "\n",
    "l1=[0,1,2,3,4]\n",
    "l2=[0,0,0]\n",
    "print(any(l1),any(l2))\n",
    "\n",
    "l1=[11,12,30,4]\n",
    "print(enumerate(l1))\n",
    "print(list(enumerate(l1)))\n",
    "\n",
    "print(len(l1))\n",
    "print(max(l1))\n",
    "print(min(l1))\n",
    "print(sum(l1))\n",
    "\n",
    "s1={1,2,3,4}\n",
    "print(list(s1))\n",
    "\n"
   ]
  }
 ],
 "metadata": {
  "kernelspec": {
   "display_name": "Python 3 (ipykernel)",
   "language": "python",
   "name": "python3"
  },
  "language_info": {
   "codemirror_mode": {
    "name": "ipython",
    "version": 3
   },
   "file_extension": ".py",
   "mimetype": "text/x-python",
   "name": "python",
   "nbconvert_exporter": "python",
   "pygments_lexer": "ipython3",
   "version": "3.9.12"
  }
 },
 "nbformat": 4,
 "nbformat_minor": 5
}
