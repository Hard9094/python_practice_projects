{
 "cells": [
  {
   "cell_type": "code",
   "execution_count": 1,
   "id": "c2569eaa",
   "metadata": {},
   "outputs": [
    {
     "name": "stdout",
     "output_type": "stream",
     "text": [
      "hash for 21 is  21\n",
      "hash for 231.32 is  737869762948366567\n",
      "hash for python is  -5810627750905724907\n"
     ]
    }
   ],
   "source": [
    "#hashing\n",
    "print(\"hash for 21 is \",hash(21))\n",
    "print(\"hash for 231.32 is \",hash(231.32))\n",
    "print(\"hash for python is \",hash(\"python\"))"
   ]
  },
  {
   "cell_type": "code",
   "execution_count": 2,
   "id": "16dc3fe2",
   "metadata": {},
   "outputs": [
    {
     "name": "stdout",
     "output_type": "stream",
     "text": [
      "-5810627750905724907\n"
     ]
    }
   ],
   "source": [
    "print(hash(\"python\"))"
   ]
  },
  {
   "cell_type": "code",
   "execution_count": 3,
   "id": "9123950b",
   "metadata": {},
   "outputs": [
    {
     "name": "stdout",
     "output_type": "stream",
     "text": [
      "-5810627750905724907\n"
     ]
    }
   ],
   "source": [
    "print(hash(\"python\"))"
   ]
  },
  {
   "cell_type": "code",
   "execution_count": 4,
   "id": "a5456a85",
   "metadata": {},
   "outputs": [
    {
     "data": {
      "text/plain": [
       "693545773853481974"
      ]
     },
     "execution_count": 4,
     "metadata": {},
     "output_type": "execute_result"
    }
   ],
   "source": [
    "hash(\"Python\")"
   ]
  },
  {
   "cell_type": "code",
   "execution_count": 5,
   "id": "54e98ebb",
   "metadata": {},
   "outputs": [
    {
     "name": "stdout",
     "output_type": "stream",
     "text": [
      "-185619385024537483\n"
     ]
    }
   ],
   "source": [
    "tuple_val=(2,5,6,4,7)\n",
    "print(str(hash(tuple_val)))"
   ]
  },
  {
   "cell_type": "code",
   "execution_count": 6,
   "id": "8df15da0",
   "metadata": {},
   "outputs": [],
   "source": [
    "#list has no hash value"
   ]
  },
  {
   "cell_type": "code",
   "execution_count": 7,
   "id": "09ddd98e",
   "metadata": {},
   "outputs": [],
   "source": [
    "#timeit\n",
    "#its code will be execute and its  executed and its execution time will be returned"
   ]
  },
  {
   "cell_type": "code",
   "execution_count": 8,
   "id": "37ca270d",
   "metadata": {},
   "outputs": [
    {
     "name": "stdout",
     "output_type": "stream",
     "text": [
      "0.0009698000000000206\n"
     ]
    }
   ],
   "source": [
    "import timeit\n",
    "def test(n):\n",
    "    return sum(range(n))\n",
    "n=1000\n",
    "print(timeit.timeit(lambda: test(n),number=100))"
   ]
  },
  {
   "cell_type": "code",
   "execution_count": 9,
   "id": "151c1a19",
   "metadata": {},
   "outputs": [
    {
     "name": "stdout",
     "output_type": "stream",
     "text": [
      "4.52 µs ± 397 ns per loop (mean ± std. dev. of 7 runs, 100000 loops each)\n"
     ]
    }
   ],
   "source": [
    "%timeit [num for num in range(100)]"
   ]
  },
  {
   "cell_type": "code",
   "execution_count": 10,
   "id": "f7a39fd3",
   "metadata": {},
   "outputs": [
    {
     "name": "stdout",
     "output_type": "stream",
     "text": [
      "4.82 µs ± 628 ns per loop (mean ± std. dev. of 5 runs, 100 loops each)\n"
     ]
    }
   ],
   "source": [
    "%timeit -r5 -n100 [num for num in range(100)]"
   ]
  },
  {
   "cell_type": "code",
   "execution_count": 11,
   "id": "7e5fbc96",
   "metadata": {},
   "outputs": [
    {
     "name": "stdout",
     "output_type": "stream",
     "text": [
      "40.8 µs ± 2.4 µs per loop (mean ± std. dev. of 5 runs, 1000 loops each)\n"
     ]
    }
   ],
   "source": [
    "%%timeit -r5 -n1000\n",
    "for i in range(100):\n",
    "    n=i**2 \n",
    "    m=i**3\n",
    "    o=abs(i)"
   ]
  },
  {
   "cell_type": "code",
   "execution_count": 12,
   "id": "b9da6f8b",
   "metadata": {},
   "outputs": [
    {
     "name": "stdout",
     "output_type": "stream",
     "text": [
      "The slowest run took 234.06 times longer than the fastest. This could mean that an intermediate result is being cached.\n",
      "138 µs ± 326 µs per loop (mean ± std. dev. of 7 runs, 100 loops each)\n"
     ]
    }
   ],
   "source": [
    "%%timeit -n 100\n",
    "import numpy as np\n",
    "a=np.arange(n)\n",
    "np.sum(a)"
   ]
  },
  {
   "cell_type": "code",
   "execution_count": null,
   "id": "acf987d1",
   "metadata": {},
   "outputs": [],
   "source": []
  },
  {
   "cell_type": "code",
   "execution_count": null,
   "id": "28429c21",
   "metadata": {},
   "outputs": [],
   "source": []
  },
  {
   "cell_type": "code",
   "execution_count": null,
   "id": "b29c9a3d",
   "metadata": {},
   "outputs": [],
   "source": []
  },
  {
   "cell_type": "code",
   "execution_count": 13,
   "id": "5795d22a",
   "metadata": {},
   "outputs": [
    {
     "name": "stdout",
     "output_type": "stream",
     "text": [
      "{'this': 8, 'is': 3, 'the': 6, 'first': 2, 'document': 1, 'second': 5, 'and': 0, 'third': 7, 'one': 4}\n",
      "  (0, 8)\t1\n",
      "  (0, 3)\t1\n",
      "  (0, 6)\t1\n",
      "  (0, 2)\t1\n",
      "  (0, 1)\t1\n",
      "  (1, 8)\t1\n",
      "  (1, 3)\t1\n",
      "  (1, 6)\t1\n",
      "  (1, 1)\t1\n",
      "  (1, 5)\t1\n",
      "  (2, 8)\t1\n",
      "  (2, 3)\t1\n",
      "  (2, 6)\t1\n",
      "  (2, 0)\t1\n",
      "  (2, 7)\t1\n",
      "  (2, 4)\t1\n",
      "  (3, 8)\t1\n",
      "  (3, 3)\t1\n",
      "  (3, 6)\t1\n",
      "  (3, 2)\t2\n",
      "  (3, 1)\t1\n",
      "(4, 9)\n"
     ]
    }
   ],
   "source": [
    "from sklearn.feature_extraction.text import CountVectorizer\n",
    "corpus=[\"this is the first document.\",\n",
    "       \"this is the second document.\",\n",
    "       \"and this is the third one.\",\n",
    "       \"is this the first first document?\"]\n",
    "cvectorizer=CountVectorizer()\n",
    "x=cvectorizer.fit_transform (corpus)\n",
    "print(cvectorizer.vocabulary_)\n",
    "print(x)\n",
    "print(x.shape)"
   ]
  },
  {
   "cell_type": "code",
   "execution_count": 14,
   "id": "fc83b769",
   "metadata": {},
   "outputs": [
    {
     "name": "stdout",
     "output_type": "stream",
     "text": [
      "  (0, 144749)\t0.4472135954999579\n",
      "  (0, 170062)\t0.4472135954999579\n",
      "  (0, 286878)\t-0.4472135954999579\n",
      "  (0, 351664)\t-0.4472135954999579\n",
      "  (0, 989160)\t-0.4472135954999579\n",
      "  (1, 144749)\t0.4472135954999579\n",
      "  (1, 170062)\t0.4472135954999579\n",
      "  (1, 286878)\t-0.4472135954999579\n",
      "  (1, 351664)\t-0.4472135954999579\n",
      "  (1, 544379)\t0.4472135954999579\n",
      "  (2, 144749)\t0.4082482904638631\n",
      "  (2, 170062)\t0.4082482904638631\n",
      "  (2, 178949)\t0.4082482904638631\n",
      "  (2, 180525)\t-0.4082482904638631\n",
      "  (2, 286878)\t-0.4082482904638631\n",
      "  (2, 948532)\t-0.4082482904638631\n",
      "  (3, 144749)\t0.35355339059327373\n",
      "  (3, 170062)\t0.35355339059327373\n",
      "  (3, 286878)\t-0.35355339059327373\n",
      "  (3, 351664)\t-0.35355339059327373\n",
      "  (3, 989160)\t-0.7071067811865475\n",
      "(4, 1048576)\n"
     ]
    }
   ],
   "source": [
    "from sklearn.feature_extraction.text import HashingVectorizer\n",
    "corpus=[\"this is the first document.\",\n",
    "       \"this is the second document.\",\n",
    "       \"and this is the third one.\",\n",
    "       \"is this the first first document?\"]\n",
    "cvectorizer=HashingVectorizer()\n",
    "x=cvectorizer.fit_transform (corpus)\n",
    "#print(cvectorizer.vocabulary_)\n",
    "print(x)\n",
    "print(x.shape)"
   ]
  },
  {
   "cell_type": "code",
   "execution_count": 15,
   "id": "8bc616b3",
   "metadata": {},
   "outputs": [
    {
     "name": "stdout",
     "output_type": "stream",
     "text": [
      "  (0, 78)\t1.0\n",
      "  (0, 158)\t-1.0\n",
      "  (0, 365)\t1.0\n",
      "  (0, 432)\t-1.0\n",
      "  (0, 1000)\t-1.0\n",
      "  (1, 78)\t1.0\n",
      "  (1, 158)\t-1.0\n",
      "  (1, 365)\t1.0\n",
      "  (1, 432)\t-1.0\n",
      "  (1, 635)\t1.0\n",
      "  (2, 78)\t1.0\n",
      "  (2, 158)\t-1.0\n",
      "  (2, 301)\t-1.0\n",
      "  (2, 308)\t-1.0\n",
      "  (2, 365)\t1.0\n",
      "  (2, 773)\t1.0\n",
      "  (3, 78)\t1.0\n",
      "  (3, 158)\t-1.0\n",
      "  (3, 365)\t1.0\n",
      "  (3, 432)\t-1.0\n",
      "  (3, 1000)\t-2.0\n",
      "(4, 1024)\n"
     ]
    }
   ],
   "source": [
    "from sklearn.feature_extraction.text import HashingVectorizer\n",
    "corpus=[\"this is the first document.\",\n",
    "       \"this is the second document.\",\n",
    "       \"and this is the third one.\",\n",
    "       \"is this the first first document?\"]\n",
    "cvectorizer=HashingVectorizer(n_features=2**10,norm=None,alternate_sign=True)\n",
    "x=cvectorizer.fit_transform (corpus)\n",
    "#print(cvectorizer.vocabulary_)\n",
    "print(x)\n",
    "print(x.shape)"
   ]
  },
  {
   "cell_type": "code",
   "execution_count": 16,
   "id": "938aec0d",
   "metadata": {},
   "outputs": [
    {
     "name": "stdout",
     "output_type": "stream",
     "text": [
      "   point  age\n",
      "0      1   10\n",
      "1      2   23\n",
      "2      3   34\n",
      "3      4   78\n",
      "4      5   89\n"
     ]
    },
    {
     "data": {
      "text/plain": [
       "LinearRegression()"
      ]
     },
     "execution_count": 16,
     "metadata": {},
     "output_type": "execute_result"
    }
   ],
   "source": [
    "#linear regression\n",
    "#y=mx+c\n",
    "#m slop x independent variable and y is dependent variable \n",
    "from sklearn import linear_model\n",
    "import pandas as pd\n",
    "df=pd.DataFrame({'point':[1,2,3,4,5],\n",
    "                 'age':[10,23,34,78,89]})\n",
    "print(df)\n",
    "reg=linear_model.LinearRegression()\n",
    "reg.fit(df[['age']],df.point)#age-independent,point-dependent"
   ]
  },
  {
   "cell_type": "code",
   "execution_count": 17,
   "id": "7d60cedf",
   "metadata": {},
   "outputs": [
    {
     "data": {
      "text/plain": [
       "array([0.04401918])"
      ]
     },
     "execution_count": 17,
     "metadata": {},
     "output_type": "execute_result"
    }
   ],
   "source": [
    "m=reg.coef_\n",
    "m"
   ]
  },
  {
   "cell_type": "code",
   "execution_count": 18,
   "id": "693b2dd7",
   "metadata": {},
   "outputs": [
    {
     "data": {
      "text/plain": [
       "0.9399024551541704"
      ]
     },
     "execution_count": 18,
     "metadata": {},
     "output_type": "execute_result"
    }
   ],
   "source": [
    "c=reg.intercept_\n",
    "c"
   ]
  },
  {
   "cell_type": "code",
   "execution_count": 19,
   "id": "909d8824",
   "metadata": {},
   "outputs": [
    {
     "data": {
      "text/plain": [
       "array([1.38009424])"
      ]
     },
     "execution_count": 19,
     "metadata": {},
     "output_type": "execute_result"
    }
   ],
   "source": [
    "y=m*10+c\n",
    "y"
   ]
  },
  {
   "cell_type": "code",
   "execution_count": 20,
   "id": "b51eb5c0",
   "metadata": {},
   "outputs": [
    {
     "name": "stderr",
     "output_type": "stream",
     "text": [
      "C:\\Users\\Lenovo\\anaconda3\\lib\\site-packages\\sklearn\\base.py:450: UserWarning: X does not have valid feature names, but LinearRegression was fitted with feature names\n",
      "  warnings.warn(\n"
     ]
    },
    {
     "data": {
      "text/plain": [
       "array([1.38009424])"
      ]
     },
     "execution_count": 20,
     "metadata": {},
     "output_type": "execute_result"
    }
   ],
   "source": [
    "reg.predict([[10]])"
   ]
  }
 ],
 "metadata": {
  "kernelspec": {
   "display_name": "Python 3 (ipykernel)",
   "language": "python",
   "name": "python3"
  },
  "language_info": {
   "codemirror_mode": {
    "name": "ipython",
    "version": 3
   },
   "file_extension": ".py",
   "mimetype": "text/x-python",
   "name": "python",
   "nbconvert_exporter": "python",
   "pygments_lexer": "ipython3",
   "version": "3.9.13"
  }
 },
 "nbformat": 4,
 "nbformat_minor": 5
}
