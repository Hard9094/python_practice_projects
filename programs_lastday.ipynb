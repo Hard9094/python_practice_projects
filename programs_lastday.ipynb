{
 "cells": [
  {
   "cell_type": "code",
   "execution_count": 1,
   "id": "fb507552",
   "metadata": {},
   "outputs": [
    {
     "name": "stdout",
     "output_type": "stream",
     "text": [
      "number of lines 10\n"
     ]
    }
   ],
   "source": [
    "fh=open(\"text1.txt\",\"r\")\n",
    "r1=fh.readlines()\n",
    "print(\"number of lines\",len(r1))\n",
    "fh.close()"
   ]
  },
  {
   "cell_type": "code",
   "execution_count": 2,
   "id": "024fde01",
   "metadata": {},
   "outputs": [
    {
     "name": "stdout",
     "output_type": "stream",
     "text": [
      "number of words: 37\n"
     ]
    }
   ],
   "source": [
    "fh=open(\"text1.txt\",\"r\")\n",
    "r1=fh.read()\n",
    "w1=r1.split()\n",
    "print(\"number of words:\",len(w1))"
   ]
  },
  {
   "cell_type": "code",
   "execution_count": 3,
   "id": "f9d5f912",
   "metadata": {},
   "outputs": [
    {
     "name": "stdout",
     "output_type": "stream",
     "text": [
      "number of words: 30\n"
     ]
    }
   ],
   "source": [
    "fh=open(\"text1.txt\",\"r\")\n",
    "r1=fh.read()\n",
    "w1=set(r1.split())\n",
    "print(\"number of words:\",len(w1))"
   ]
  },
  {
   "cell_type": "code",
   "execution_count": 4,
   "id": "eff12ce0",
   "metadata": {},
   "outputs": [],
   "source": [
    "fh=open(\"text2.txt\",\"w\")\n",
    "l1=[\"cdsugkja\\n\",\"qwertio\\n\",\"drfsyagjkopo\\n\"]\n",
    "fh.writelines(l1)\n",
    "fh.close()"
   ]
  },
  {
   "cell_type": "code",
   "execution_count": 8,
   "id": "14f74998",
   "metadata": {},
   "outputs": [
    {
     "name": "stdout",
     "output_type": "stream",
     "text": [
      "['cdsugkja', 'qwertio', 'drfsyagjkopo']\n"
     ]
    }
   ],
   "source": [
    "fh=open(\"text2.txt\",\"r\")\n",
    "w1=fh.read()\n",
    "r1=w1.split()\n",
    "print(r1)"
   ]
  },
  {
   "cell_type": "code",
   "execution_count": 9,
   "id": "32bcc289",
   "metadata": {},
   "outputs": [
    {
     "name": "stdout",
     "output_type": "stream",
     "text": [
      "file size in bytes if a text file: 183\n"
     ]
    }
   ],
   "source": [
    "def file_size(fname):\n",
    "    import os\n",
    "    info=os.stat(fname)\n",
    "    return info.st_size\n",
    "print(\"file size in bytes if a text file:\",file_size(\"text1.txt\"))"
   ]
  },
  {
   "cell_type": "code",
   "execution_count": 10,
   "id": "67d5b699",
   "metadata": {},
   "outputs": [
    {
     "name": "stdout",
     "output_type": "stream",
     "text": [
      "['cdsugkja\\n', 'qwertio\\n', 'drfsyagjkopo\\n']\n"
     ]
    }
   ],
   "source": [
    "fh=open(\"text2.txt\",\"r\")\n",
    "array=[]\n",
    "for line in fh:\n",
    "    array.append(line)\n",
    "print(array)"
   ]
  },
  {
   "cell_type": "code",
   "execution_count": 14,
   "id": "46b6fc0d",
   "metadata": {},
   "outputs": [
    {
     "name": "stdout",
     "output_type": "stream",
     "text": [
      "['cdsugkja', 'qwertio', 'drfsyagjkopo']\n"
     ]
    },
    {
     "ename": "AttributeError",
     "evalue": "'str' object has no attribute 'size'",
     "output_type": "error",
     "traceback": [
      "\u001b[1;31m---------------------------------------------------------------------------\u001b[0m",
      "\u001b[1;31mAttributeError\u001b[0m                            Traceback (most recent call last)",
      "Input \u001b[1;32mIn [14]\u001b[0m, in \u001b[0;36m<cell line: 5>\u001b[1;34m()\u001b[0m\n\u001b[0;32m      3\u001b[0m r1\u001b[38;5;241m=\u001b[39mw1\u001b[38;5;241m.\u001b[39msplit()\n\u001b[0;32m      4\u001b[0m \u001b[38;5;28mprint\u001b[39m(r1)\n\u001b[1;32m----> 5\u001b[0m s\u001b[38;5;241m=\u001b[39m\u001b[43mw1\u001b[49m\u001b[38;5;241;43m.\u001b[39;49m\u001b[43msize\u001b[49m()\n",
      "\u001b[1;31mAttributeError\u001b[0m: 'str' object has no attribute 'size'"
     ]
    }
   ],
   "source": [
    "#alternate way for finding the size of file without using os or anything by using simple funtions\n",
    "fh=open(\"text2.txt\",\"r\")\n",
    "w1=fh.read()\n",
    "r1=w1.split()\n",
    "print(r1)\n",
    "s=w1.size()"
   ]
  },
  {
   "cell_type": "code",
   "execution_count": 15,
   "id": "5e83b966",
   "metadata": {},
   "outputs": [],
   "source": [
    "#happy number,sad number,armstrong,palindrome\n",
    "\n"
   ]
  },
  {
   "cell_type": "code",
   "execution_count": 21,
   "id": "45aa7ab4",
   "metadata": {},
   "outputs": [
    {
     "name": "stdout",
     "output_type": "stream",
     "text": [
      "hello : 2\n",
      "how : 1\n",
      "are : 3\n",
      "you : 3\n",
      "hello : 2\n",
      "what : 1\n",
      "are : 3\n",
      "you : 3\n",
      "doing : 1\n",
      "hey : 1\n",
      "whats : 1\n",
      "up : 1\n",
      "where : 1\n",
      "are : 3\n",
      "you : 3\n",
      "going : 1\n",
      "kem : 1\n",
      "cho : 1\n",
      "one : 1\n",
      "two : 1\n",
      "three : 1\n",
      "four : 1\n",
      "ek : 1\n",
      "do : 1\n",
      "tin : 1\n",
      "char : 1\n",
      "ganpati : 2\n",
      "ka : 1\n",
      "jay : 2\n",
      "jay : 2\n",
      "kar : 1\n",
      "tapeli : 1\n",
      "am : 1\n",
      "shiro : 1\n",
      "ganpati : 2\n",
      "bapa : 1\n",
      "hero : 1\n"
     ]
    }
   ],
   "source": [
    "fh=open(\"text1.txt\",\"r\")\n",
    "w1=fh.read()\n",
    "r1=w1.split()\n",
    "\n",
    "for i in r1:\n",
    "    count=0\n",
    "    for j in r1:\n",
    "        if(i==j): \n",
    "            count=count+1\n",
    "    print(i,\":\",count)"
   ]
  },
  {
   "cell_type": "code",
   "execution_count": 25,
   "id": "15d2ab86",
   "metadata": {},
   "outputs": [
    {
     "name": "stdout",
     "output_type": "stream",
     "text": [
      "jay 3\n",
      "kem 3\n",
      "char 4\n",
      "what 4\n",
      "cho 3\n",
      "shiro 5\n",
      "two 3\n",
      "am 2\n",
      "hello 5\n",
      "you 3\n",
      "kar 3\n",
      "going 5\n",
      "four 4\n",
      "ek 2\n",
      "hey 3\n",
      "how 3\n",
      "are 3\n",
      "one 3\n",
      "do 2\n",
      "hero 4\n",
      "where 5\n",
      "up 2\n",
      "tapeli 6\n",
      "ka 2\n",
      "ganpati 7\n",
      "bapa 4\n",
      "whats 5\n",
      "tin 3\n",
      "three 5\n",
      "doing 5\n",
      "max length: 7\n",
      "max length string: ganpati\n"
     ]
    }
   ],
   "source": [
    "fh=open(\"text1.txt\",\"r\")\n",
    "w1=fh.read()\n",
    "r1=set(w1.split())\n",
    "\n",
    "for i in r1:\n",
    "    print(i,len(i))\n",
    "    j=len(i)\n",
    "for i in r1:\n",
    "    if(len(i)>j):\n",
    "        j=len(i)\n",
    "print(\"max length:\",j)\n",
    "for i in r1:\n",
    "    if(len(i)==j):\n",
    "        print(\"max length string:\",i)\n",
    "    "
   ]
  }
 ],
 "metadata": {
  "kernelspec": {
   "display_name": "Python 3 (ipykernel)",
   "language": "python",
   "name": "python3"
  },
  "language_info": {
   "codemirror_mode": {
    "name": "ipython",
    "version": 3
   },
   "file_extension": ".py",
   "mimetype": "text/x-python",
   "name": "python",
   "nbconvert_exporter": "python",
   "pygments_lexer": "ipython3",
   "version": "3.9.13"
  }
 },
 "nbformat": 4,
 "nbformat_minor": 5
}
