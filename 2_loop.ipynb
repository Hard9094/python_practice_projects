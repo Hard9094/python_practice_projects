{
 "cells": [
  {
   "cell_type": "code",
   "execution_count": 4,
   "id": "81e48462",
   "metadata": {},
   "outputs": [
    {
     "name": "stdout",
     "output_type": "stream",
     "text": [
      "1\n",
      "2\n",
      "3\n",
      "no item left\n"
     ]
    }
   ],
   "source": [
    "digits=[1,2,3]\n",
    "for i in digits:\n",
    "    print(i)\n",
    "else:\n",
    "    print(\"no item left\")"
   ]
  },
  {
   "cell_type": "code",
   "execution_count": 20,
   "id": "66cd80d6",
   "metadata": {},
   "outputs": [
    {
     "name": "stdout",
     "output_type": "stream",
     "text": [
      "s\n",
      "n\n",
      "h\n",
      "e\n",
      "a\n",
      "end of namee\n"
     ]
    }
   ],
   "source": [
    "name=\"snhea\"\n",
    "for i in name:\n",
    "    print(i)\n",
    "else:\n",
    "    print(\"end of namee\")"
   ]
  },
  {
   "cell_type": "code",
   "execution_count": 36,
   "id": "471f511d",
   "metadata": {},
   "outputs": [
    {
     "name": "stdout",
     "output_type": "stream",
     "text": [
      "current letter s\n",
      "current letter n\n"
     ]
    }
   ],
   "source": [
    "for letter in 'sneha' :\n",
    "    if letter == 'e':\n",
    "        break\n",
    "    print(\"current letter\",letter)"
   ]
  },
  {
   "cell_type": "code",
   "execution_count": 41,
   "id": "5017e66f",
   "metadata": {},
   "outputs": [
    {
     "name": "stdout",
     "output_type": "stream",
     "text": [
      "sneha\n",
      "20\n",
      "sneha\n",
      "20\n"
     ]
    }
   ],
   "source": [
    "def demo(name,age):\n",
    "    print(name)\n",
    "    print(age)\n",
    "demo(\"sneha\",20)\n",
    "demo(age=20,name=\"sneha\")"
   ]
  },
  {
   "cell_type": "code",
   "execution_count": 5,
   "id": "c48b1de0",
   "metadata": {},
   "outputs": [
    {
     "name": "stdout",
     "output_type": "stream",
     "text": [
      "name= s\n",
      "20\n",
      "name= n\n",
      "20\n",
      "name= e\n",
      "20\n",
      "name= h\n",
      "20\n",
      "name= a\n",
      "20\n"
     ]
    }
   ],
   "source": [
    "def demo(name,age=20):\n",
    "    for i in name:\n",
    "        print(\"name=\",i)\n",
    "        print(age)\n",
    "demo(\"sneha\")"
   ]
  },
  {
   "cell_type": "code",
   "execution_count": 2,
   "id": "51cee50e",
   "metadata": {},
   "outputs": [
    {
     "name": "stdout",
     "output_type": "stream",
     "text": [
      "name= sneha\n",
      "name= thakkar\n",
      "name= hey\n"
     ]
    }
   ],
   "source": [
    "def demo(*name):\n",
    "    for i in name:\n",
    "        print(\"name=\",i)\n",
    "demo(\"sneha\",\"thakkar\",\"hey\")"
   ]
  }
 ],
 "metadata": {
  "kernelspec": {
   "display_name": "Python 3 (ipykernel)",
   "language": "python",
   "name": "python3"
  },
  "language_info": {
   "codemirror_mode": {
    "name": "ipython",
    "version": 3
   },
   "file_extension": ".py",
   "mimetype": "text/x-python",
   "name": "python",
   "nbconvert_exporter": "python",
   "pygments_lexer": "ipython3",
   "version": "3.9.12"
  }
 },
 "nbformat": 4,
 "nbformat_minor": 5
}
