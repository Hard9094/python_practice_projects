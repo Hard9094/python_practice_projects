{
 "cells": [
  {
   "cell_type": "code",
   "execution_count": 2,
   "id": "4bec3ebe",
   "metadata": {},
   "outputs": [
    {
     "name": "stdout",
     "output_type": "stream",
     "text": [
      "b'\\n\\x14\\x1e('\n",
      "10\n",
      "20\n",
      "30\n",
      "40\n"
     ]
    }
   ],
   "source": [
    "elements=[10,20,30,40]\n",
    "x=bytes(elements)\n",
    "print(x)\n",
    "for i in x:\n",
    "    print(i)"
   ]
  },
  {
   "cell_type": "code",
   "execution_count": 3,
   "id": "5e1fcd0a",
   "metadata": {},
   "outputs": [
    {
     "name": "stdout",
     "output_type": "stream",
     "text": [
      "b'\\n\\x14\\x1e('\n",
      "10\n",
      "20\n",
      "30\n",
      "40\n"
     ]
    },
    {
     "ename": "TypeError",
     "evalue": "'bytes' object does not support item assignment",
     "output_type": "error",
     "traceback": [
      "\u001b[1;31m---------------------------------------------------------------------------\u001b[0m",
      "\u001b[1;31mTypeError\u001b[0m                                 Traceback (most recent call last)",
      "Input \u001b[1;32mIn [3]\u001b[0m, in \u001b[0;36m<cell line: 6>\u001b[1;34m()\u001b[0m\n\u001b[0;32m      4\u001b[0m \u001b[38;5;28;01mfor\u001b[39;00m i \u001b[38;5;129;01min\u001b[39;00m x:\n\u001b[0;32m      5\u001b[0m     \u001b[38;5;28mprint\u001b[39m(i)\n\u001b[1;32m----> 6\u001b[0m x[\u001b[38;5;241m1\u001b[39m]\u001b[38;5;241m=\u001b[39m\u001b[38;5;241m80\u001b[39m\n",
      "\u001b[1;31mTypeError\u001b[0m: 'bytes' object does not support item assignment"
     ]
    }
   ],
   "source": [
    "elements=[10,20,30,40]\n",
    "x=bytes(elements)\n",
    "print(x)\n",
    "for i in x:\n",
    "    print(i)\n",
    "x[1]=80"
   ]
  },
  {
   "cell_type": "code",
   "execution_count": 5,
   "id": "022f51f9",
   "metadata": {},
   "outputs": [
    {
     "name": "stdout",
     "output_type": "stream",
     "text": [
      "bytearray(b'\\n\\x14\\x1e(')\n",
      "10\n",
      "20\n",
      "30\n",
      "40\n",
      "10\n",
      "80\n",
      "30\n",
      "40\n"
     ]
    }
   ],
   "source": [
    "elements=[10,20,30,40]\n",
    "x=bytearray(elements)\n",
    "print(x)\n",
    "for i in x:\n",
    "    print(i)\n",
    "x[1]=80\n",
    "for i in x:\n",
    "    print(i)\n"
   ]
  },
  {
   "cell_type": "code",
   "execution_count": 12,
   "id": "4b000489",
   "metadata": {
    "scrolled": true
   },
   "outputs": [
    {
     "name": "stdout",
     "output_type": "stream",
     "text": [
      "b'\\n\\x14\\x1e('\n",
      "10\n",
      "20\n",
      "30\n",
      "40\n"
     ]
    },
    {
     "ename": "TypeError",
     "evalue": "'bytes' object does not support item assignment",
     "output_type": "error",
     "traceback": [
      "\u001b[1;31m---------------------------------------------------------------------------\u001b[0m",
      "\u001b[1;31mTypeError\u001b[0m                                 Traceback (most recent call last)",
      "Input \u001b[1;32mIn [12]\u001b[0m, in \u001b[0;36m<cell line: 6>\u001b[1;34m()\u001b[0m\n\u001b[0;32m      4\u001b[0m \u001b[38;5;28;01mfor\u001b[39;00m i \u001b[38;5;129;01min\u001b[39;00m x:\n\u001b[0;32m      5\u001b[0m     \u001b[38;5;28mprint\u001b[39m(i)\n\u001b[1;32m----> 6\u001b[0m x[\u001b[38;5;241m1\u001b[39m]\u001b[38;5;241m=\u001b[39m\u001b[38;5;241m80\u001b[39m\n\u001b[0;32m      7\u001b[0m \u001b[38;5;28;01mfor\u001b[39;00m i \u001b[38;5;129;01min\u001b[39;00m x:\n\u001b[0;32m      8\u001b[0m     \u001b[38;5;28mprint\u001b[39m(i)\n",
      "\u001b[1;31mTypeError\u001b[0m: 'bytes' object does not support item assignment"
     ]
    }
   ],
   "source": [
    "elements=[10,20,30,40]\n",
    "x=bytes(elements)\n",
    "print(x)\n",
    "for i in x:\n",
    "    print(i)\n",
    "x[1]=80\n",
    "for i in x:\n",
    "    print(i)"
   ]
  },
  {
   "cell_type": "code",
   "execution_count": 30,
   "id": "aab07129",
   "metadata": {},
   "outputs": [
    {
     "name": "stdout",
     "output_type": "stream",
     "text": [
      "1\n",
      "3\n",
      "dfssfdsg\n",
      "5.4\n"
     ]
    }
   ],
   "source": [
    "my_list=[1,3,\"dfssfdsg\",5.4]\n",
    "for i in my_list:\n",
    "    print(i)"
   ]
  },
  {
   "cell_type": "code",
   "execution_count": 9,
   "id": "014abeb1",
   "metadata": {},
   "outputs": [
    {
     "name": "stdout",
     "output_type": "stream",
     "text": [
      "2\n",
      "erfsdf\n",
      "5.6\n",
      "2\n"
     ]
    }
   ],
   "source": [
    "my_tuple=(2,\"erfsdf\",5.6,2)\n",
    "for i in my_tuple:\n",
    "    print(i)"
   ]
  },
  {
   "cell_type": "code",
   "execution_count": 11,
   "id": "d4325a4a",
   "metadata": {},
   "outputs": [
    {
     "name": "stdout",
     "output_type": "stream",
     "text": [
      "[0, 1, 2, 3, 4, 5, 6, 7, 8, 9]\n",
      "[1, 2, 3, 4, 5, 6, 7, 8, 9]\n",
      "[1, 3, 5, 7, 9]\n"
     ]
    }
   ],
   "source": [
    "r= range(10)\n",
    "r1=range(1,10)\n",
    "r2=range(1,10,2)\n",
    "s=list(r)\n",
    "s1=list(r1)\n",
    "s2=list(r2)\n",
    "print(s)\n",
    "print(s1)\n",
    "print(s2)"
   ]
  },
  {
   "cell_type": "code",
   "execution_count": 14,
   "id": "022295dc",
   "metadata": {},
   "outputs": [
    {
     "name": "stdout",
     "output_type": "stream",
     "text": [
      "{20, 40, 10, 60, 30}\n"
     ]
    }
   ],
   "source": [
    "s={10,20,10,30,60,40}\n",
    "print(s)"
   ]
  },
  {
   "cell_type": "code",
   "execution_count": 28,
   "id": "fe089377",
   "metadata": {},
   "outputs": [
    {
     "name": "stdout",
     "output_type": "stream",
     "text": [
      "apple\n",
      "234\n"
     ]
    }
   ],
   "source": [
    "dic1={1:\"apple\",2:\"ball\"}\n",
    "dic2={\"a\":123,\"b\":234}\n",
    "print (dic1[1])\n",
    "print(dic2[\"b\"])"
   ]
  },
  {
   "cell_type": "code",
   "execution_count": 31,
   "id": "0fe1670f",
   "metadata": {},
   "outputs": [
    {
     "name": "stdout",
     "output_type": "stream",
     "text": [
      "2\n",
      "erfsdf\n",
      "5.6\n",
      "2\n"
     ]
    },
    {
     "ename": "TypeError",
     "evalue": "'tuple' object does not support item assignment",
     "output_type": "error",
     "traceback": [
      "\u001b[1;31m---------------------------------------------------------------------------\u001b[0m",
      "\u001b[1;31mTypeError\u001b[0m                                 Traceback (most recent call last)",
      "Input \u001b[1;32mIn [31]\u001b[0m, in \u001b[0;36m<cell line: 4>\u001b[1;34m()\u001b[0m\n\u001b[0;32m      2\u001b[0m \u001b[38;5;28;01mfor\u001b[39;00m i \u001b[38;5;129;01min\u001b[39;00m my_tuple:\n\u001b[0;32m      3\u001b[0m     \u001b[38;5;28mprint\u001b[39m(i)\n\u001b[1;32m----> 4\u001b[0m my_tuple[\u001b[38;5;241m1\u001b[39m]\u001b[38;5;241m=\u001b[39m\u001b[38;5;241m23\u001b[39m\n\u001b[0;32m      5\u001b[0m \u001b[38;5;28;01mfor\u001b[39;00m i \u001b[38;5;129;01min\u001b[39;00m my_tuple:\n\u001b[0;32m      6\u001b[0m     \u001b[38;5;28mprint\u001b[39m(i)\n",
      "\u001b[1;31mTypeError\u001b[0m: 'tuple' object does not support item assignment"
     ]
    }
   ],
   "source": [
    "my_tuple=(2,\"erfsdf\",5.6,2)\n",
    "for i in my_tuple:\n",
    "    print(i)\n",
    "my_tuple[1]=23\n",
    "for i in my_tuple:\n",
    "    print(i)"
   ]
  },
  {
   "cell_type": "code",
   "execution_count": 32,
   "id": "efbba05f",
   "metadata": {},
   "outputs": [
    {
     "name": "stdout",
     "output_type": "stream",
     "text": [
      "1\n",
      "3\n",
      "dfssfdsg\n",
      "5.4\n",
      "1\n",
      "3\n",
      "23\n",
      "5.4\n"
     ]
    }
   ],
   "source": [
    "my_list=[1,3,\"dfssfdsg\",5.4]\n",
    "for i in my_list:\n",
    "    print(i)\n",
    "my_list[2]=23\n",
    "for i in my_list:\n",
    "    print(i)"
   ]
  },
  {
   "cell_type": "code",
   "execution_count": 35,
   "id": "95ccd795",
   "metadata": {},
   "outputs": [
    {
     "name": "stdout",
     "output_type": "stream",
     "text": [
      "400\n"
     ]
    }
   ],
   "source": [
    "f= lambda c:c*c\n",
    "print(f(20))"
   ]
  },
  {
   "cell_type": "code",
   "execution_count": 39,
   "id": "d9c2f97f",
   "metadata": {},
   "outputs": [
    {
     "name": "stdout",
     "output_type": "stream",
     "text": [
      "7\n"
     ]
    }
   ],
   "source": [
    "f= lambda d:d+2+3\n",
    "print(f(2))"
   ]
  },
  {
   "cell_type": "code",
   "execution_count": 52,
   "id": "07f1caf0",
   "metadata": {
    "scrolled": true
   },
   "outputs": [
    {
     "name": "stdout",
     "output_type": "stream",
     "text": [
      "[2, 4, 6, 8]\n"
     ]
    }
   ],
   "source": [
    "def odd_even(x):\n",
    "    if x%2==0:\n",
    "        return True\n",
    "    else:\n",
    "        return False\n",
    "st_one=[2,4,3,1,5,6,7,8,89]\n",
    "list1=list(filter(odd_even,st_one))\n",
    "print(list1)"
   ]
  },
  {
   "cell_type": "code",
   "execution_count": 53,
   "id": "f96de4cc",
   "metadata": {},
   "outputs": [
    {
     "name": "stdout",
     "output_type": "stream",
     "text": [
      "[4, 16, 9, 1, 25, 36, 49, 64, 7921]\n"
     ]
    }
   ],
   "source": [
    "def square(x):\n",
    "    return x*x\n",
    "st_one=[2,4,3,1,5,6,7,8,89]\n",
    "list1=list(map(square,st_one))\n",
    "print(list1)"
   ]
  },
  {
   "cell_type": "code",
   "execution_count": 59,
   "id": "bfc3171c",
   "metadata": {},
   "outputs": [
    {
     "name": "stdout",
     "output_type": "stream",
     "text": [
      "15\n"
     ]
    }
   ],
   "source": [
    "from functools import*\n",
    "st_one=[1,2,3,4,5]\n",
    "list1=reduce(lambda x,y:x+y,st_one)\n",
    "print(list1)"
   ]
  },
  {
   "cell_type": "code",
   "execution_count": 60,
   "id": "10c2ba93",
   "metadata": {},
   "outputs": [
    {
     "name": "stdout",
     "output_type": "stream",
     "text": [
      "globa variable 100\n",
      "local variable 10\n"
     ]
    }
   ],
   "source": [
    "var=100\n",
    "def my_fun():\n",
    "    var=10\n",
    "    print(\"local variable\",var)\n",
    "print(\"globa variable\",var)\n",
    "my_fun()"
   ]
  },
  {
   "cell_type": "code",
   "execution_count": 62,
   "id": "294564fd",
   "metadata": {},
   "outputs": [
    {
     "name": "stdout",
     "output_type": "stream",
     "text": [
      "value outside 100\n",
      "value inside 101\n",
      "value outside 101\n"
     ]
    }
   ],
   "source": [
    "var=100\n",
    "def my_fun():\n",
    "    global var\n",
    "    var=var+1\n",
    "    print(\"value inside\", var)\n",
    "print(\"value outside\",var)\n",
    "my_fun()\n",
    "print(\"value outside\",var)"
   ]
  },
  {
   "cell_type": "code",
   "execution_count": 73,
   "id": "a3ca9787",
   "metadata": {},
   "outputs": [
    {
     "name": "stdout",
     "output_type": "stream",
     "text": [
      "3.14159\n"
     ]
    }
   ],
   "source": [
    "import circle1\n",
    "print(circle1.pi)\n"
   ]
  },
  {
   "cell_type": "code",
   "execution_count": 81,
   "id": "ecf8a533",
   "metadata": {},
   "outputs": [
    {
     "ename": "NameError",
     "evalue": "name 'o' is not defined",
     "output_type": "error",
     "traceback": [
      "\u001b[1;31m---------------------------------------------------------------------------\u001b[0m",
      "\u001b[1;31mNameError\u001b[0m                                 Traceback (most recent call last)",
      "Input \u001b[1;32mIn [81]\u001b[0m, in \u001b[0;36m<cell line: 2>\u001b[1;34m()\u001b[0m\n\u001b[0;32m      1\u001b[0m \u001b[38;5;28;01mimport\u001b[39;00m \u001b[38;5;21;01mleapyear\u001b[39;00m\n\u001b[1;32m----> 2\u001b[0m \u001b[38;5;28mprint\u001b[39m(\u001b[43mleapyear\u001b[49m\u001b[38;5;241;43m.\u001b[39;49m\u001b[43myear\u001b[49m\u001b[43m(\u001b[49m\u001b[38;5;241;43m2022\u001b[39;49m\u001b[43m)\u001b[49m)\n",
      "File \u001b[1;32m~\\Desktop\\PythonProjects\\leapyear.py:2\u001b[0m, in \u001b[0;36myear\u001b[1;34m(x)\u001b[0m\n\u001b[0;32m      1\u001b[0m \u001b[38;5;28;01mdef\u001b[39;00m \u001b[38;5;21myear\u001b[39m(x):\n\u001b[1;32m----> 2\u001b[0m \t\u001b[38;5;28;01mif\u001b[39;00m x\u001b[38;5;241m%\u001b[39m\u001b[38;5;241m4\u001b[39m\u001b[38;5;241m==\u001b[39m\u001b[43mo\u001b[49m \u001b[38;5;129;01mand\u001b[39;00m x \u001b[38;5;241m%\u001b[39m \u001b[38;5;241m100\u001b[39m\u001b[38;5;241m!=\u001b[39m\u001b[38;5;241m0\u001b[39m:\n\u001b[0;32m      3\u001b[0m \t\t\u001b[38;5;28mprint\u001b[39m(x,\u001b[38;5;124m\"\u001b[39m\u001b[38;5;124mis a leap year\u001b[39m\u001b[38;5;124m\"\u001b[39m)\n\u001b[0;32m      4\u001b[0m \t\u001b[38;5;28;01melif\u001b[39;00m x \u001b[38;5;241m%\u001b[39m \u001b[38;5;241m100\u001b[39m\u001b[38;5;241m==\u001b[39m\u001b[38;5;241m0\u001b[39m:\n",
      "\u001b[1;31mNameError\u001b[0m: name 'o' is not defined"
     ]
    }
   ],
   "source": [
    "import leapyear\n",
    "print(leapyear.year(2022))"
   ]
  },
  {
   "cell_type": "code",
   "execution_count": 82,
   "id": "9bf5e76a",
   "metadata": {},
   "outputs": [
    {
     "ename": "NameError",
     "evalue": "name 'o' is not defined",
     "output_type": "error",
     "traceback": [
      "\u001b[1;31m---------------------------------------------------------------------------\u001b[0m",
      "\u001b[1;31mNameError\u001b[0m                                 Traceback (most recent call last)",
      "Input \u001b[1;32mIn [82]\u001b[0m, in \u001b[0;36m<cell line: 2>\u001b[1;34m()\u001b[0m\n\u001b[0;32m      1\u001b[0m \u001b[38;5;28;01mimport\u001b[39;00m \u001b[38;5;21;01mleapyear\u001b[39;00m\n\u001b[1;32m----> 2\u001b[0m \u001b[38;5;28mprint\u001b[39m(\u001b[43mleapyear\u001b[49m\u001b[38;5;241;43m.\u001b[39;49m\u001b[43myear\u001b[49m\u001b[43m(\u001b[49m\u001b[38;5;241;43m2022\u001b[39;49m\u001b[43m)\u001b[49m)\n",
      "File \u001b[1;32m~\\Desktop\\PythonProjects\\leapyear.py:2\u001b[0m, in \u001b[0;36myear\u001b[1;34m(x)\u001b[0m\n\u001b[0;32m      1\u001b[0m \u001b[38;5;28;01mdef\u001b[39;00m \u001b[38;5;21myear\u001b[39m(x):\n\u001b[1;32m----> 2\u001b[0m \t\u001b[38;5;28;01mif\u001b[39;00m x\u001b[38;5;241m%\u001b[39m\u001b[38;5;241m4\u001b[39m\u001b[38;5;241m==\u001b[39m\u001b[43mo\u001b[49m \u001b[38;5;129;01mand\u001b[39;00m x \u001b[38;5;241m%\u001b[39m \u001b[38;5;241m100\u001b[39m\u001b[38;5;241m!=\u001b[39m\u001b[38;5;241m0\u001b[39m:\n\u001b[0;32m      3\u001b[0m \t\t\u001b[38;5;28mprint\u001b[39m(x,\u001b[38;5;124m\"\u001b[39m\u001b[38;5;124mis a leap year\u001b[39m\u001b[38;5;124m\"\u001b[39m)\n\u001b[0;32m      4\u001b[0m \t\u001b[38;5;28;01melif\u001b[39;00m x \u001b[38;5;241m%\u001b[39m \u001b[38;5;241m100\u001b[39m\u001b[38;5;241m==\u001b[39m\u001b[38;5;241m0\u001b[39m:\n",
      "\u001b[1;31mNameError\u001b[0m: name 'o' is not defined"
     ]
    }
   ],
   "source": [
    "import leapyear\n",
    "print(leapyear.year(2022))"
   ]
  },
  {
   "cell_type": "code",
   "execution_count": null,
   "id": "5a51c4eb",
   "metadata": {},
   "outputs": [],
   "source": []
  }
 ],
 "metadata": {
  "kernelspec": {
   "display_name": "Python 3 (ipykernel)",
   "language": "python",
   "name": "python3"
  },
  "language_info": {
   "codemirror_mode": {
    "name": "ipython",
    "version": 3
   },
   "file_extension": ".py",
   "mimetype": "text/x-python",
   "name": "python",
   "nbconvert_exporter": "python",
   "pygments_lexer": "ipython3",
   "version": "3.9.12"
  }
 },
 "nbformat": 4,
 "nbformat_minor": 5
}
