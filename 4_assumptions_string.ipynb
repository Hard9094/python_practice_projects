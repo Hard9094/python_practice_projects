{
 "cells": [
  {
   "cell_type": "code",
   "execution_count": 45,
   "id": "3fdb6989",
   "metadata": {
    "scrolled": true
   },
   "outputs": [
    {
     "name": "stdout",
     "output_type": "stream",
     "text": [
      "4\n"
     ]
    }
   ],
   "source": [
    "def fact(n):\n",
    "    result=1\n",
    "    while n>1:\n",
    "        result = result*n\n",
    "        n=n-1\n",
    "        return result\n",
    "print(fact(4))"
   ]
  },
  {
   "cell_type": "code",
   "execution_count": 53,
   "id": "c3d1dcd0",
   "metadata": {},
   "outputs": [],
   "source": [
    "def fact(n):\n",
    "    result=1\n",
    "    while n>1:\n",
    "        result = result * n\n",
    "        n=n-1\n",
    "        return result\n",
    "        print(fact(3))"
   ]
  },
  {
   "cell_type": "code",
   "execution_count": 54,
   "id": "c0f15f08",
   "metadata": {
    "scrolled": true
   },
   "outputs": [
    {
     "name": "stdout",
     "output_type": "stream",
     "text": [
      "None\n"
     ]
    }
   ],
   "source": [
    "print(fact.__doc__)"
   ]
  },
  {
   "cell_type": "code",
   "execution_count": 55,
   "id": "77608f23",
   "metadata": {},
   "outputs": [
    {
     "name": "stdout",
     "output_type": "stream",
     "text": [
      "4\n"
     ]
    }
   ],
   "source": [
    "print(fact(4))"
   ]
  },
  {
   "cell_type": "code",
   "execution_count": null,
   "id": "a946b8a2",
   "metadata": {},
   "outputs": [],
   "source": [
    "s1= \"core python\"\n",
    "print(s1[::])\n",
    "print(s1[::2])\n",
    "print(s1[0:6:1])\n",
    "print(s1[2::1])\n",
    "print(s1[2:7:1])\n",
    "print(s1[::-1])\n",
    "print(s1[0:9:-2])"
   ]
  },
  {
   "cell_type": "code",
   "execution_count": 47,
   "id": "3190ed04",
   "metadata": {},
   "outputs": [
    {
     "name": "stdout",
     "output_type": "stream",
     "text": [
      "s2 found in s1\n"
     ]
    }
   ],
   "source": [
    "s1=\"this is a string\"\n",
    "s2=\"is\"\n",
    "if s2 in s1:\n",
    "    print(\"s2 found in s1\")\n",
    "else:\n",
    "    print(\"s2 not found in s1\")"
   ]
  },
  {
   "cell_type": "code",
   "execution_count": 70,
   "id": "276bcc73",
   "metadata": {},
   "outputs": [
    {
     "name": "stdout",
     "output_type": "stream",
     "text": [
      "True\n",
      "False\n",
      "True\n",
      "False\n",
      "False\n",
      "False\n",
      "False\n",
      "2\n",
      "7\n",
      "2\n",
      "7\n"
     ]
    }
   ],
   "source": [
    "s1=\"gtu2022u\"\n",
    "print(s1.islower())\n",
    "print(s1.isupper())\n",
    "print(s1.isalnum())\n",
    "print(s1.isalpha())\n",
    "print(s1.isdigit())\n",
    "print(s1.istitle())\n",
    "print(s1.isspace())\n",
    "print(s1.find(\"u\"))\n",
    "print(s1.rfind(\"u\"))\n",
    "print(s1.index(\"u\"))\n",
    "print(s1.rindex(\"u\"))"
   ]
  },
  {
   "cell_type": "code",
   "execution_count": 71,
   "id": "6884dd50",
   "metadata": {},
   "outputs": [
    {
     "name": "stdout",
     "output_type": "stream",
     "text": [
      "['one', 'two', 'three', 'four']\n"
     ]
    }
   ],
   "source": [
    "s1=\"one,two,three,four\"\n",
    "s2=s1.split(',')\n",
    "print(s2)"
   ]
  },
  {
   "cell_type": "code",
   "execution_count": 60,
   "id": "0cc800b0",
   "metadata": {},
   "outputs": [
    {
     "name": "stdout",
     "output_type": "stream",
     "text": [
      "sneha_nayanbhai_thakkar\n"
     ]
    }
   ],
   "source": [
    "s1=(\"sneha\",\"nayanbhai\",\"thakkar\")\n",
    "s2='_'.join(s1)\n",
    "print(s2)"
   ]
  },
  {
   "cell_type": "code",
   "execution_count": 68,
   "id": "b02714e5",
   "metadata": {},
   "outputs": [
    {
     "name": "stdout",
     "output_type": "stream",
     "text": [
      "1\n",
      "8\n",
      "1\n",
      "8\n",
      "-1\n"
     ]
    },
    {
     "ename": "ValueError",
     "evalue": "substring not found",
     "output_type": "error",
     "traceback": [
      "\u001b[1;31m---------------------------------------------------------------------------\u001b[0m",
      "\u001b[1;31mValueError\u001b[0m                                Traceback (most recent call last)",
      "Input \u001b[1;32mIn [68]\u001b[0m, in \u001b[0;36m<cell line: 7>\u001b[1;34m()\u001b[0m\n\u001b[0;32m      5\u001b[0m \u001b[38;5;28mprint\u001b[39m(s1\u001b[38;5;241m.\u001b[39mrindex(\u001b[38;5;124m\"\u001b[39m\u001b[38;5;124mo\u001b[39m\u001b[38;5;124m\"\u001b[39m))\n\u001b[0;32m      6\u001b[0m \u001b[38;5;28mprint\u001b[39m(s1\u001b[38;5;241m.\u001b[39mfind(\u001b[38;5;124m\"\u001b[39m\u001b[38;5;124mk\u001b[39m\u001b[38;5;124m\"\u001b[39m))\n\u001b[1;32m----> 7\u001b[0m \u001b[38;5;28mprint\u001b[39m(\u001b[43ms1\u001b[49m\u001b[38;5;241;43m.\u001b[39;49m\u001b[43mindex\u001b[49m\u001b[43m(\u001b[49m\u001b[38;5;124;43m\"\u001b[39;49m\u001b[38;5;124;43mk\u001b[39;49m\u001b[38;5;124;43m\"\u001b[39;49m\u001b[43m)\u001b[49m)\n",
      "\u001b[1;31mValueError\u001b[0m: substring not found"
     ]
    }
   ],
   "source": [
    "s1=\"popopabco\"\n",
    "print(s1.find(\"o\"))\n",
    "print(s1.rfind(\"o\"))\n",
    "print(s1.index(\"o\"))\n",
    "print(s1.rindex(\"o\"))\n",
    "print(s1.find(\"k\"))\n",
    "print(s1.index(\"k\"))"
   ]
  }
 ],
 "metadata": {
  "kernelspec": {
   "display_name": "Python 3 (ipykernel)",
   "language": "python",
   "name": "python3"
  },
  "language_info": {
   "codemirror_mode": {
    "name": "ipython",
    "version": 3
   },
   "file_extension": ".py",
   "mimetype": "text/x-python",
   "name": "python",
   "nbconvert_exporter": "python",
   "pygments_lexer": "ipython3",
   "version": "3.9.12"
  }
 },
 "nbformat": 4,
 "nbformat_minor": 5
}
