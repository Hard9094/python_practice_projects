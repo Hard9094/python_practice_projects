{
 "cells": [
  {
   "cell_type": "code",
   "execution_count": 1,
   "id": "e09dce32",
   "metadata": {},
   "outputs": [
    {
     "data": {
      "text/plain": [
       "'\\nspecial character and pattern meaning\\n* zero or more occurance\\n+ one\\n! zero or more\\n. any character\\n| abc|ABC naming abc or ABC\\n^ start of the string(\\\\A)\\n$ end of the string(\\\\Z)\\n^(?!abc) matches anything other than abc\\n'"
      ]
     },
     "execution_count": 1,
     "metadata": {},
     "output_type": "execute_result"
    }
   ],
   "source": [
    "#RE-regular expression\n",
    "\"\"\"\n",
    "a RE is string that contains special simbols and characters to find and extract the info needed by us from th egiven data\n",
    "a RE help to search info,match,find and split info as per oour requirements\n",
    "RE are available in JAVA,PYTHON,PEARL\n",
    "we should import RE module as re\n",
    "\"\"\"\n",
    "#QUE ASKED AS: wtp to find the word which starts from m and have 3 character\n",
    "\"\"\"\n",
    "\\d=[0-9]\n",
    "\\D=[^0-9] any non digit\n",
    "\\s=[\\n\\t] ehitespace char\n",
    "\\S=[^\\n\\t]\n",
    "\\w=alphanumeric[a-z,A-Z,0-9]\n",
    "\\W=not alphanumeric[^a-z,A-Z,0-9] special character(any non alphanumeric)\n",
    "\\A=start of the string\n",
    "\\b=empty string[beggining end]\n",
    "\\B=^empty string[beggining end]\n",
    "\\Z=end of the string\n",
    "\"\"\"\n",
    "\"\"\"\n",
    "special character and pattern meaning\n",
    "* zero or more occurance\n",
    "+ one\n",
    "! zero or more\n",
    ". any character\n",
    "| abc|ABC naming abc or ABC\n",
    "^ start of the string(\\A)\n",
    "$ end of the string(\\Z)\n",
    "^(?!abc) matches anything other than abc\n",
    "\"\"\""
   ]
  },
  {
   "cell_type": "code",
   "execution_count": 1,
   "id": "4264df03",
   "metadata": {},
   "outputs": [
    {
     "name": "stdout",
     "output_type": "stream",
     "text": [
      "<re.Match object; span=(4, 7), match='man'>\n"
     ]
    }
   ],
   "source": [
    "#search-return a first matched word\n",
    "import re\n",
    "reg=r'm\\w\\w'\n",
    "s=\"cat man mom mat met\"\n",
    "res=re.search(reg,s)\n",
    "print(res)"
   ]
  },
  {
   "cell_type": "code",
   "execution_count": 3,
   "id": "f71f35ed",
   "metadata": {},
   "outputs": [
    {
     "name": "stdout",
     "output_type": "stream",
     "text": [
      "man\n"
     ]
    }
   ],
   "source": [
    "print(res.group())"
   ]
  },
  {
   "cell_type": "code",
   "execution_count": 4,
   "id": "c949132e",
   "metadata": {},
   "outputs": [
    {
     "name": "stdout",
     "output_type": "stream",
     "text": [
      "None\n"
     ]
    }
   ],
   "source": [
    "#match-return if it find mactched value on iddex=1\n",
    "import re\n",
    "reg=r'm\\w\\w'\n",
    "s=\"cat man mom mat met\"\n",
    "res=re.match(reg,s)\n",
    "print(res)"
   ]
  },
  {
   "cell_type": "code",
   "execution_count": 5,
   "id": "c2be6537",
   "metadata": {},
   "outputs": [
    {
     "ename": "AttributeError",
     "evalue": "'NoneType' object has no attribute 'group'",
     "output_type": "error",
     "traceback": [
      "\u001b[1;31m---------------------------------------------------------------------------\u001b[0m",
      "\u001b[1;31mAttributeError\u001b[0m                            Traceback (most recent call last)",
      "Input \u001b[1;32mIn [5]\u001b[0m, in \u001b[0;36m<cell line: 1>\u001b[1;34m()\u001b[0m\n\u001b[1;32m----> 1\u001b[0m \u001b[38;5;28mprint\u001b[39m(\u001b[43mres\u001b[49m\u001b[38;5;241;43m.\u001b[39;49m\u001b[43mgroup\u001b[49m())\n",
      "\u001b[1;31mAttributeError\u001b[0m: 'NoneType' object has no attribute 'group'"
     ]
    }
   ],
   "source": [
    "print(res.group())"
   ]
  },
  {
   "cell_type": "code",
   "execution_count": 6,
   "id": "e9e84813",
   "metadata": {},
   "outputs": [
    {
     "name": "stdout",
     "output_type": "stream",
     "text": [
      "<re.Match object; span=(0, 3), match='man'>\n"
     ]
    }
   ],
   "source": [
    "import re\n",
    "reg=r'm\\w\\w'\n",
    "s=\"man mom mat met\"\n",
    "res=re.match(reg,s)\n",
    "print(res)"
   ]
  },
  {
   "cell_type": "code",
   "execution_count": 7,
   "id": "52f60da5",
   "metadata": {},
   "outputs": [
    {
     "name": "stdout",
     "output_type": "stream",
     "text": [
      "man\n"
     ]
    }
   ],
   "source": [
    "print(res.group( ))"
   ]
  },
  {
   "cell_type": "code",
   "execution_count": 8,
   "id": "4a54a96f",
   "metadata": {},
   "outputs": [
    {
     "name": "stdout",
     "output_type": "stream",
     "text": [
      "<re.Match object; span=(0, 3), match='man'>\n"
     ]
    }
   ],
   "source": [
    "#findall-return all the values of string which matches\n",
    "import re\n",
    "reg=r'm\\w\\w'\n",
    "s=\"cat man mom mat met\"\n",
    "res1=re.findall(reg,s)\n",
    "print(res)"
   ]
  },
  {
   "cell_type": "code",
   "execution_count": 9,
   "id": "d5add44b",
   "metadata": {},
   "outputs": [],
   "source": [
    "#findall do not support res.group() function"
   ]
  },
  {
   "cell_type": "code",
   "execution_count": 10,
   "id": "efd84b70",
   "metadata": {},
   "outputs": [
    {
     "ename": "AttributeError",
     "evalue": "'list' object has no attribute 'group'",
     "output_type": "error",
     "traceback": [
      "\u001b[1;31m---------------------------------------------------------------------------\u001b[0m",
      "\u001b[1;31mAttributeError\u001b[0m                            Traceback (most recent call last)",
      "Input \u001b[1;32mIn [10]\u001b[0m, in \u001b[0;36m<cell line: 1>\u001b[1;34m()\u001b[0m\n\u001b[1;32m----> 1\u001b[0m \u001b[38;5;28mprint\u001b[39m(\u001b[43mres1\u001b[49m\u001b[38;5;241;43m.\u001b[39;49m\u001b[43mgroup\u001b[49m())\n",
      "\u001b[1;31mAttributeError\u001b[0m: 'list' object has no attribute 'group'"
     ]
    }
   ],
   "source": [
    "print(res1.group())"
   ]
  },
  {
   "cell_type": "code",
   "execution_count": 11,
   "id": "82b3435e",
   "metadata": {},
   "outputs": [
    {
     "name": "stdout",
     "output_type": "stream",
     "text": [
      "['met']\n"
     ]
    }
   ],
   "source": [
    "import re\n",
    "s=\"reqgq met qehmetgg qghmet qwfhqw gqrg qwmetrgqw qwrg\"\n",
    "reg=r\"\\bmet\\b\"#returns only met from all the stringss\n",
    "res=re.findall(reg,s)\n",
    "print(res)"
   ]
  },
  {
   "cell_type": "code",
   "execution_count": 12,
   "id": "82dcd3e6",
   "metadata": {},
   "outputs": [
    {
     "name": "stdout",
     "output_type": "stream",
     "text": [
      "['this', 'is', 'python', 's', 'book']\n"
     ]
    }
   ],
   "source": [
    "#a python program to create regular expresssion to SPLIT a string into pieces when one or more non \n",
    "#alphanumeric characters are found\n",
    "import re\n",
    "s=\"this : is; python\\'s book\"\n",
    "res=re.split(r'\\W+',s)\n",
    "print(res)"
   ]
  },
  {
   "cell_type": "code",
   "execution_count": 13,
   "id": "3cc04127",
   "metadata": {},
   "outputs": [
    {
     "name": "stdout",
     "output_type": "stream",
     "text": [
      "today is sunday\n"
     ]
    }
   ],
   "source": [
    "#REPLACE=sub()\n",
    "import re\n",
    "s=\"today is monday\"\n",
    "res=re.sub(r'monday','sunday',s)\n",
    "print(res)"
   ]
  },
  {
   "cell_type": "code",
   "execution_count": 14,
   "id": "917dbb22",
   "metadata": {},
   "outputs": [
    {
     "name": "stdout",
     "output_type": "stream",
     "text": [
      "['an', 'apple', 'a', 'ay', 'away']\n"
     ]
    }
   ],
   "source": [
    "import re\n",
    "reg=r'a\\w*'#starting from a , only a , in between string starts from a\n",
    "s=\"an apple a day keeps the doctor away\"\n",
    "res=re.findall(reg,s)\n",
    "print(res)"
   ]
  },
  {
   "cell_type": "code",
   "execution_count": 15,
   "id": "e83ebd8a",
   "metadata": {},
   "outputs": [
    {
     "name": "stdout",
     "output_type": "stream",
     "text": [
      "['1', '2', '3', '10qreg', '9qggqrg', '4qr']\n"
     ]
    }
   ],
   "source": [
    "import re\n",
    "reg=r'\\d\\w*'\n",
    "s=\"1,2,3,qergq,qwgq,qergq,qegq,10qreg,qeb,9qggqrg,qrg4qr,rgq\"\n",
    "res=re.findall(reg,s)\n",
    "print(res)"
   ]
  },
  {
   "cell_type": "code",
   "execution_count": 16,
   "id": "7c7d3072",
   "metadata": {},
   "outputs": [],
   "source": [
    "#find the word with starting digit\n",
    "#ftw having 3 characters\n",
    "#ftw have length atleast 3 letters\n",
    "#ftw have length atleast 2,3,4 letters\n",
    "#retrive only digits\n",
    "#last word of string starting with 'i'\n",
    "#retreive first word of string starting with one"
   ]
  },
  {
   "cell_type": "code",
   "execution_count": 17,
   "id": "c0009950",
   "metadata": {},
   "outputs": [
    {
     "name": "stdout",
     "output_type": "stream",
     "text": [
      "['1', '2', '3', '1st', '8ight', '9nine']\n"
     ]
    }
   ],
   "source": [
    "import re\n",
    "s=\"1,2,3,one,two,1st,two,three,four,five,8ight,9nine,ten,as,on,in\"\n",
    "reg1=r'\\d\\w*'#word starting with digit\n",
    "res1=re.findall(reg1,s)\n",
    "print(res1)"
   ]
  },
  {
   "cell_type": "code",
   "execution_count": 18,
   "id": "dacecd69",
   "metadata": {},
   "outputs": [
    {
     "name": "stdout",
     "output_type": "stream",
     "text": [
      "['one', 'two', '1st', 'two', 'thr', 'fou', 'fiv', '8ig', '9ni', 'ten']\n"
     ]
    }
   ],
   "source": [
    "reg2=r'\\w{3}'\n",
    "res2=re.findall(reg2,s)\n",
    "print(res2)"
   ]
  },
  {
   "cell_type": "code",
   "execution_count": 19,
   "id": "6cdcc394",
   "metadata": {},
   "outputs": [
    {
     "name": "stdout",
     "output_type": "stream",
     "text": [
      "['one', 'two', '1st', 'two', 'three', 'four', 'five', '8ight', '9nine', 'ten']\n"
     ]
    }
   ],
   "source": [
    "reg3=r'\\w{3,}'\n",
    "res3=re.findall(reg3,s)\n",
    "print(res3)"
   ]
  },
  {
   "cell_type": "code",
   "execution_count": 26,
   "id": "5a658e94",
   "metadata": {},
   "outputs": [
    {
     "name": "stdout",
     "output_type": "stream",
     "text": [
      "['one', 'two', '1st', 'two', 'thre', 'four', 'five', '8igh', '9nin', 'ten', 'as', 'on', 'in']\n"
     ]
    }
   ],
   "source": [
    "reg4=r'\\w{2,4}'\n",
    "res4=re.findall(reg4,s)\n",
    "print(res4)"
   ]
  },
  {
   "cell_type": "code",
   "execution_count": 21,
   "id": "4c23cfd9",
   "metadata": {},
   "outputs": [
    {
     "name": "stdout",
     "output_type": "stream",
     "text": [
      "['1', '2', '3', '1', '8', '9']\n"
     ]
    }
   ],
   "source": [
    "reg5=r'\\d'\n",
    "res5=re.findall(reg5,s)\n",
    "print(res5)"
   ]
  },
  {
   "cell_type": "code",
   "execution_count": 24,
   "id": "2696db24",
   "metadata": {},
   "outputs": [
    {
     "name": "stdout",
     "output_type": "stream",
     "text": [
      "['in']\n"
     ]
    }
   ],
   "source": [
    "reg6=r'i[\\w]*\\Z'\n",
    "res6=re.findall(reg6,s)\n",
    "print(res6)"
   ]
  },
  {
   "cell_type": "code",
   "execution_count": 25,
   "id": "bc031b8b",
   "metadata": {},
   "outputs": [
    {
     "name": "stdout",
     "output_type": "stream",
     "text": [
      "['1', '1st']\n"
     ]
    }
   ],
   "source": [
    "reg7=r'1\\w*'\n",
    "res7=re.findall(reg7,s)\n",
    "print(res7)"
   ]
  },
  {
   "cell_type": "code",
   "execution_count": 31,
   "id": "24235466",
   "metadata": {},
   "outputs": [
    {
     "name": "stdout",
     "output_type": "stream",
     "text": [
      "string starts with he\n",
      "<re.Match object; span=(0, 2), match='he'>\n"
     ]
    }
   ],
   "source": [
    "#flag\n",
    "import re\n",
    "s=\"hello world\"\n",
    "res=re.search(r'^he',s,re.IGNORECASE)\n",
    "if res:\n",
    "    print(\"string starts with he\")\n",
    "else:\n",
    "    print(\"string does not start with he\")\n",
    "print(res)"
   ]
  },
  {
   "cell_type": "code",
   "execution_count": 34,
   "id": "8cc87b22",
   "metadata": {},
   "outputs": [
    {
     "name": "stdout",
     "output_type": "stream",
     "text": [
      "string ends with world\n",
      "<re.Match object; span=(6, 11), match='world'>\n"
     ]
    }
   ],
   "source": [
    "#flag\n",
    "import re\n",
    "s=\"hello world\"\n",
    "res1=re.search(r'world$',s,re.IGNORECASE)\n",
    "if res1:\n",
    "    print(\"string ends with world\")\n",
    "else:\n",
    "    print(\"string does not ends with world\")\n",
    "print(res1)"
   ]
  },
  {
   "cell_type": "code",
   "execution_count": 37,
   "id": "5a6f78b9",
   "metadata": {},
   "outputs": [
    {
     "name": "stdout",
     "output_type": "stream",
     "text": [
      "['5y']\n",
      "['5yqg', 'q5h5', 'eq5h4', '5qh5b']\n"
     ]
    }
   ],
   "source": [
    "#multiline\n",
    "import re\n",
    "s=\"\"\"5yqg\n",
    "q5h5\n",
    "eq5h4\n",
    "5qh5b\"\"\"\n",
    "k1=re.findall(r\"^\\w\\w\",s)\n",
    "k2=re.findall(r'\\w+',s,re.MULTILINE)\n",
    "print(k1)\n",
    "print(k2)"
   ]
  },
  {
   "cell_type": "code",
   "execution_count": null,
   "id": "f809a19c",
   "metadata": {},
   "outputs": [],
   "source": []
  }
 ],
 "metadata": {
  "kernelspec": {
   "display_name": "Python 3 (ipykernel)",
   "language": "python",
   "name": "python3"
  },
  "language_info": {
   "codemirror_mode": {
    "name": "ipython",
    "version": 3
   },
   "file_extension": ".py",
   "mimetype": "text/x-python",
   "name": "python",
   "nbconvert_exporter": "python",
   "pygments_lexer": "ipython3",
   "version": "3.9.13"
  }
 },
 "nbformat": 4,
 "nbformat_minor": 5
}
