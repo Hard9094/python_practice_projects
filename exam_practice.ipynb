{
 "cells": [
  {
   "cell_type": "code",
   "execution_count": null,
   "id": "138883bb",
   "metadata": {},
   "outputs": [],
   "source": [
    "#markdown"
   ]
  },
  {
   "cell_type": "markdown",
   "id": "b717264b",
   "metadata": {},
   "source": [
    "# heading\n",
    "## heading\n",
    "### heading\n",
    "#### heading\n",
    "##### heading\n",
    "###### heading"
   ]
  },
  {
   "cell_type": "markdown",
   "id": "77a2fd41",
   "metadata": {},
   "source": [
    "<ol>\n",
    "<li>hi</li>\n",
    "<li>hi</li>\n",
    "</ol>"
   ]
  },
  {
   "cell_type": "markdown",
   "id": "9e3dbb29",
   "metadata": {},
   "source": [
    "<ul>\n",
    "<li>hi</li>\n",
    "<li>hi</li>\n",
    "</ul>"
   ]
  },
  {
   "cell_type": "markdown",
   "id": "a56b4e99",
   "metadata": {},
   "source": [
    "<b>hi</b>\n",
    "<i>hi</i>"
   ]
  },
  {
   "cell_type": "markdown",
   "id": "eaa0a60c",
   "metadata": {},
   "source": [
    "***\n",
    "hi \n",
    "***"
   ]
  },
  {
   "cell_type": "markdown",
   "id": "d72c9429",
   "metadata": {},
   "source": [
    "hi`hele`hi"
   ]
  },
  {
   "cell_type": "markdown",
   "id": "1cc71a07",
   "metadata": {},
   "source": [
    "<a href=\"https://www.youtube.com/\" target=\"_blank\">youtube</a>"
   ]
  },
  {
   "cell_type": "markdown",
   "id": "5f74943b",
   "metadata": {},
   "source": [
    "![here it is](https://upload.wikimedia.org/wikipedia/commons/e/ed/Sacred_lotus_Nelumbo_nucifera.jpg)"
   ]
  },
  {
   "cell_type": "markdown",
   "id": "8eaecea4",
   "metadata": {},
   "source": [
    "<img src=\"1.jpg\" alt=\"click image\">"
   ]
  },
  {
   "cell_type": "markdown",
   "id": "05b8216f",
   "metadata": {},
   "source": [
    "hehe\n",
    ">hehehehehe"
   ]
  },
  {
   "cell_type": "markdown",
   "id": "2b3e046d",
   "metadata": {},
   "source": [
    "hehe\n",
    "<blockquotes>hehehhe</blockquotes>"
   ]
  },
  {
   "cell_type": "markdown",
   "id": "23b68f9d",
   "metadata": {},
   "source": [
    "hehe\n",
    "<blockquote>hehehhe</blockquote>"
   ]
  },
  {
   "cell_type": "markdown",
   "id": "27411ebd",
   "metadata": {},
   "source": [
    "hewhwhwhhwh<br>jwcxlajoasl"
   ]
  },
  {
   "cell_type": "code",
   "execution_count": null,
   "id": "83e761d8",
   "metadata": {},
   "outputs": [],
   "source": [
    "from IPython.display import HTML\n",
    "HTML('<iframe src=\"https://www.youtube.com/embed/zVVZWgh5ywQ\" width=\"560\" height=\"315\" frameborder=\"0\"></iframe>')"
   ]
  },
  {
   "cell_type": "code",
   "execution_count": null,
   "id": "33d7d5af",
   "metadata": {},
   "outputs": [],
   "source": [
    "from IPython.display import HTML\n",
    "HTML('<iframe src=\"https://www.youtube.com/embed/4pR56Lvfdn8\" width=\"560\" height=\"315\" frameborder=\"0\"></iframe>'"
   ]
  },
  {
   "cell_type": "code",
   "execution_count": null,
   "id": "28ed6049",
   "metadata": {},
   "outputs": [],
   "source": [
    "#file example\n",
    "import pandas as pd\n",
    "help(pd)"
   ]
  },
  {
   "cell_type": "code",
   "execution_count": null,
   "id": "27c17900",
   "metadata": {},
   "outputs": [],
   "source": [
    "import pandas \n",
    "dir pandas"
   ]
  },
  {
   "cell_type": "code",
   "execution_count": null,
   "id": "4323cce3",
   "metadata": {},
   "outputs": [],
   "source": [
    "import pandas\n",
    "dir(pandas)"
   ]
  },
  {
   "cell_type": "code",
   "execution_count": null,
   "id": "3f290987",
   "metadata": {},
   "outputs": [],
   "source": [
    "pandas.__version__"
   ]
  },
  {
   "cell_type": "code",
   "execution_count": 13,
   "id": "28a82aac",
   "metadata": {},
   "outputs": [
    {
     "name": "stdout",
     "output_type": "stream",
     "text": [
      "6\n"
     ]
    }
   ],
   "source": [
    "n=3\n",
    "i=0\n",
    "sum1=0\n",
    "while(i<=n):\n",
    "    sum1=sum1+i\n",
    "    i=i+1\n",
    "print(sum1)"
   ]
  },
  {
   "cell_type": "code",
   "execution_count": 17,
   "id": "a8b202d2",
   "metadata": {},
   "outputs": [
    {
     "name": "stdout",
     "output_type": "stream",
     "text": [
      "6\n"
     ]
    }
   ],
   "source": [
    "def fact(n):\n",
    "    if(n<=1):\n",
    "        return n\n",
    "    \n",
    "    else:\n",
    "        return(n*fact(n-1))\n",
    "\n",
    "print(fact(3))"
   ]
  },
  {
   "cell_type": "code",
   "execution_count": 26,
   "id": "74006788",
   "metadata": {},
   "outputs": [
    {
     "name": "stdout",
     "output_type": "stream",
     "text": [
      "w 1\n"
     ]
    }
   ],
   "source": [
    "str=\"snehshahsoidhw\"\n",
    "\n",
    "for i in str:\n",
    "    str.count(i)\n",
    "print(i,count)"
   ]
  },
  {
   "cell_type": "code",
   "execution_count": 48,
   "id": "4cb7698e",
   "metadata": {},
   "outputs": [
    {
     "name": "stdout",
     "output_type": "stream",
     "text": [
      "* \n",
      "* * \n",
      "* * * \n"
     ]
    }
   ],
   "source": [
    "n=3\n",
    "for i in range(0,n):\n",
    "    for j in range(0,i+1):\n",
    "        print(\"* \",end=\"\")\n",
    "    print()"
   ]
  },
  {
   "cell_type": "code",
   "execution_count": 52,
   "id": "f4903969",
   "metadata": {},
   "outputs": [
    {
     "name": "stdout",
     "output_type": "stream",
     "text": [
      "* * * \n",
      "* * \n",
      "* \n",
      "\n"
     ]
    }
   ],
   "source": [
    "n=3\n",
    "for i in range(n+1,0,-1):\n",
    "    for j in range(0,i-1):\n",
    "        print(\"* \",end=\"\")\n",
    "    print()"
   ]
  },
  {
   "cell_type": "code",
   "execution_count": 54,
   "id": "a295d3a3",
   "metadata": {},
   "outputs": [
    {
     "name": "stdout",
     "output_type": "stream",
     "text": [
      "Current Letter : P\n",
      "Current Letter : y\n",
      "Current Letter : t\n",
      "This is pass block\n",
      "Current Letter : h\n",
      "Current Letter : o\n",
      "Current Letter : n\n"
     ]
    }
   ],
   "source": [
    "for letter in 'Python':\n",
    "    if letter == 'h':\n",
    "        pass\n",
    "        print ('This is pass block') \n",
    "    print('Current Letter :', letter)"
   ]
  },
  {
   "cell_type": "code",
   "execution_count": 1,
   "id": "49c9ff2a",
   "metadata": {},
   "outputs": [
    {
     "name": "stdout",
     "output_type": "stream",
     "text": [
      "True False\n"
     ]
    }
   ],
   "source": [
    "lst1=[0,1,2,3,4,5,6]; lst2=[0,0,0]\n",
    "print (any(lst1), any(lst2))\n"
   ]
  },
  {
   "cell_type": "code",
   "execution_count": 2,
   "id": "9cdba5eb",
   "metadata": {},
   "outputs": [
    {
     "name": "stdout",
     "output_type": "stream",
     "text": [
      "False False\n"
     ]
    }
   ],
   "source": [
    "lst1=[0,1,2,3,4,5,6]; lst2=[0,0,0]\n",
    "print (all(lst1), all(lst2))\n"
   ]
  },
  {
   "cell_type": "code",
   "execution_count": null,
   "id": "371b96db",
   "metadata": {},
   "outputs": [],
   "source": []
  }
 ],
 "metadata": {
  "kernelspec": {
   "display_name": "Python 3 (ipykernel)",
   "language": "python",
   "name": "python3"
  },
  "language_info": {
   "codemirror_mode": {
    "name": "ipython",
    "version": 3
   },
   "file_extension": ".py",
   "mimetype": "text/x-python",
   "name": "python",
   "nbconvert_exporter": "python",
   "pygments_lexer": "ipython3",
   "version": "3.9.12"
  }
 },
 "nbformat": 4,
 "nbformat_minor": 5
}
