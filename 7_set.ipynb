{
 "cells": [
  {
   "cell_type": "code",
   "execution_count": 1,
   "id": "6af6b7d4",
   "metadata": {},
   "outputs": [
    {
     "name": "stdout",
     "output_type": "stream",
     "text": [
      "{1, 2, 3, 4, 5}\n",
      "item 1\n",
      "item 2\n",
      "item 3\n",
      "item 4\n",
      "item 5\n"
     ]
    }
   ],
   "source": [
    "s={1,2,3,4,5}\n",
    "print(s)\n",
    "for i in s:\n",
    "    print(\"item\",i)"
   ]
  },
  {
   "cell_type": "code",
   "execution_count": 2,
   "id": "59d6033b",
   "metadata": {},
   "outputs": [
    {
     "name": "stdout",
     "output_type": "stream",
     "text": [
      " 1 in set: True\n",
      "9 in set: False\n"
     ]
    }
   ],
   "source": [
    "#membership operation\n",
    "\n",
    "print(\" 1 in set:\", 1 in s)\n",
    "print(\"9 in set:\",9 in s)\n"
   ]
  },
  {
   "cell_type": "code",
   "execution_count": 3,
   "id": "6d1c9a8e",
   "metadata": {},
   "outputs": [
    {
     "name": "stdout",
     "output_type": "stream",
     "text": [
      "{1, 2, 3, 4, 5}\n",
      "{1, 2, 3, 4, 5, 6}\n",
      "{1, 2, 3, 4, 5, 6, 7, 8, 9}\n"
     ]
    }
   ],
   "source": [
    "print(s)\n",
    "s.add(6)\n",
    "print(s)\n",
    "s.update([7,8,9])\n",
    "print(s)"
   ]
  },
  {
   "cell_type": "code",
   "execution_count": 4,
   "id": "cbb22783",
   "metadata": {},
   "outputs": [
    {
     "ename": "TypeError",
     "evalue": "unsupported operand type(s) for *: 'set' and 'int'",
     "output_type": "error",
     "traceback": [
      "\u001b[1;31m---------------------------------------------------------------------------\u001b[0m",
      "\u001b[1;31mTypeError\u001b[0m                                 Traceback (most recent call last)",
      "Input \u001b[1;32mIn [4]\u001b[0m, in \u001b[0;36m<cell line: 4>\u001b[1;34m()\u001b[0m\n\u001b[0;32m      1\u001b[0m s1\u001b[38;5;241m=\u001b[39m{\u001b[38;5;241m1\u001b[39m,\u001b[38;5;241m2\u001b[39m,\u001b[38;5;241m3\u001b[39m,\u001b[38;5;241m4\u001b[39m}\n\u001b[0;32m      2\u001b[0m s2\u001b[38;5;241m=\u001b[39m{\u001b[38;5;241m5\u001b[39m,\u001b[38;5;241m6\u001b[39m,\u001b[38;5;241m7\u001b[39m}\n\u001b[1;32m----> 4\u001b[0m \u001b[38;5;28mprint\u001b[39m(\u001b[43ms1\u001b[49m\u001b[38;5;241;43m*\u001b[39;49m\u001b[38;5;241;43m3\u001b[39;49m)\n",
      "\u001b[1;31mTypeError\u001b[0m: unsupported operand type(s) for *: 'set' and 'int'"
     ]
    }
   ],
   "source": [
    "s1={1,2,3,4}\n",
    "s2={5,6,7}\n",
    "\n",
    "print(s1*3)\n"
   ]
  },
  {
   "cell_type": "code",
   "execution_count": null,
   "id": "88c11db7",
   "metadata": {},
   "outputs": [],
   "source": [
    "print(s1+s2)"
   ]
  },
  {
   "cell_type": "code",
   "execution_count": null,
   "id": "f43300a3",
   "metadata": {},
   "outputs": [],
   "source": [
    "print(s1[:])\n",
    "print(s1[1:4])\n",
    "print(s1[0:3:2])"
   ]
  },
  {
   "cell_type": "code",
   "execution_count": null,
   "id": "ac39be40",
   "metadata": {},
   "outputs": [],
   "source": [
    "s1.append(9)\n",
    "print(s1)"
   ]
  },
  {
   "cell_type": "code",
   "execution_count": null,
   "id": "a87983f4",
   "metadata": {},
   "outputs": [],
   "source": [
    "#set does not support concate , interation, :: slicing"
   ]
  },
  {
   "cell_type": "code",
   "execution_count": 5,
   "id": "38d8a8b5",
   "metadata": {},
   "outputs": [
    {
     "name": "stdout",
     "output_type": "stream",
     "text": [
      "{1, 2, 3, 4, 5, 6, 7, 8}\n",
      "{3, 4, 7}\n",
      "{8, 1, 2}\n",
      "None\n"
     ]
    }
   ],
   "source": [
    "#union\n",
    "s1={1,2,3,4,7,8}\n",
    "s2={5,6,7,3,4}\n",
    "\n",
    "print(s1.union(s2))\n",
    "print(s1.intersection(s2))\n",
    "print(s1.difference(s2))\n",
    "print(s1.difference_update(s2))"
   ]
  },
  {
   "cell_type": "code",
   "execution_count": 6,
   "id": "bf9af2b8",
   "metadata": {},
   "outputs": [
    {
     "name": "stdout",
     "output_type": "stream",
     "text": [
      "{1, 2, 3, 4}\n"
     ]
    }
   ],
   "source": [
    "#copy\n",
    "s1={1,2,3,4}\n",
    "s2=s1.copy()\n",
    "print(s2)"
   ]
  },
  {
   "cell_type": "code",
   "execution_count": 7,
   "id": "0647f0c9",
   "metadata": {},
   "outputs": [
    {
     "name": "stdout",
     "output_type": "stream",
     "text": [
      "{1, 2, 4}\n"
     ]
    }
   ],
   "source": [
    "#remove\n",
    "s1.remove(3)\n",
    "print(s1)"
   ]
  },
  {
   "cell_type": "code",
   "execution_count": 8,
   "id": "c058649e",
   "metadata": {},
   "outputs": [
    {
     "name": "stdout",
     "output_type": "stream",
     "text": [
      "{'c', 'd', 'a'}\n"
     ]
    }
   ],
   "source": [
    "#discard\n",
    "\n",
    "x={\"a\",\"b\",\"c\",\"d\"}\n",
    "\n",
    "x.discard(\"b\")\n",
    "print(x)"
   ]
  },
  {
   "cell_type": "code",
   "execution_count": 9,
   "id": "416893e1",
   "metadata": {},
   "outputs": [
    {
     "name": "stdout",
     "output_type": "stream",
     "text": [
      "c\n"
     ]
    }
   ],
   "source": [
    "#pop\n",
    "# remove random element\n",
    "\n",
    "print(x.pop())"
   ]
  },
  {
   "cell_type": "code",
   "execution_count": 10,
   "id": "80d9e828",
   "metadata": {},
   "outputs": [
    {
     "ename": "NameError",
     "evalue": "name 'x' is not defined",
     "output_type": "error",
     "traceback": [
      "\u001b[1;31m---------------------------------------------------------------------------\u001b[0m",
      "\u001b[1;31mNameError\u001b[0m                                 Traceback (most recent call last)",
      "Input \u001b[1;32mIn [10]\u001b[0m, in \u001b[0;36m<cell line: 4>\u001b[1;34m()\u001b[0m\n\u001b[0;32m      1\u001b[0m x\u001b[38;5;241m=\u001b[39m{\u001b[38;5;124m\"\u001b[39m\u001b[38;5;124ma\u001b[39m\u001b[38;5;124m\"\u001b[39m,\u001b[38;5;124m\"\u001b[39m\u001b[38;5;124mb\u001b[39m\u001b[38;5;124m\"\u001b[39m,\u001b[38;5;124m\"\u001b[39m\u001b[38;5;124mc\u001b[39m\u001b[38;5;124m\"\u001b[39m,\u001b[38;5;124m\"\u001b[39m\u001b[38;5;124md\u001b[39m\u001b[38;5;124m\"\u001b[39m}\n\u001b[0;32m      3\u001b[0m \u001b[38;5;28;01mdel\u001b[39;00m x\n\u001b[1;32m----> 4\u001b[0m \u001b[38;5;28mprint\u001b[39m(\u001b[43mx\u001b[49m)\n",
      "\u001b[1;31mNameError\u001b[0m: name 'x' is not defined"
     ]
    }
   ],
   "source": [
    "x={\"a\",\"b\",\"c\",\"d\"}\n",
    "\n",
    "del x\n",
    "print(x)"
   ]
  },
  {
   "cell_type": "code",
   "execution_count": 11,
   "id": "e42a196d",
   "metadata": {},
   "outputs": [
    {
     "name": "stdout",
     "output_type": "stream",
     "text": [
      "set()\n"
     ]
    }
   ],
   "source": [
    "x={\"a\",\"b\",\"c\",\"d\"}\n",
    "x.clear()\n",
    "print(x)"
   ]
  },
  {
   "cell_type": "code",
   "execution_count": 7,
   "id": "a110efdb",
   "metadata": {},
   "outputs": [
    {
     "name": "stdout",
     "output_type": "stream",
     "text": [
      "ebcba\n",
      "it is not\n"
     ]
    }
   ],
   "source": [
    "# palindrome\n",
    "\n",
    "str1=\"abcbe\"\n",
    "str2=str1[::-1]\n",
    "print(str2)\n",
    "if(str1==str2):\n",
    "    print(\"string is palindrome\")\n",
    "else:\n",
    "    print(\"it is not\")\n"
   ]
  },
  {
   "cell_type": "markdown",
   "id": "4c58fcd2",
   "metadata": {},
   "source": [
    "###### "
   ]
  },
  {
   "cell_type": "code",
   "execution_count": 13,
   "id": "40ed0261",
   "metadata": {},
   "outputs": [
    {
     "name": "stdout",
     "output_type": "stream",
     "text": [
      "False\n",
      "True\n",
      "True\n",
      "True\n",
      "5\n"
     ]
    }
   ],
   "source": [
    "#issubset\n",
    "\n",
    "x={1,2,3,4,5}\n",
    "y={1,3,5}\n",
    "\n",
    "print(x.issubset(y))\n",
    "print(y.issubset(x))\n",
    "print(x.issuperset(y))\n",
    "print(x.issuperset(y))\n",
    "print(len(x))"
   ]
  },
  {
   "cell_type": "code",
   "execution_count": 14,
   "id": "b054d74a",
   "metadata": {},
   "outputs": [
    {
     "name": "stdout",
     "output_type": "stream",
     "text": [
      "frozenset({1, 2, 3, 4, 5})\n"
     ]
    },
    {
     "ename": "AttributeError",
     "evalue": "'frozenset' object has no attribute 'add'",
     "output_type": "error",
     "traceback": [
      "\u001b[1;31m---------------------------------------------------------------------------\u001b[0m",
      "\u001b[1;31mAttributeError\u001b[0m                            Traceback (most recent call last)",
      "Input \u001b[1;32mIn [14]\u001b[0m, in \u001b[0;36m<cell line: 10>\u001b[1;34m()\u001b[0m\n\u001b[0;32m      8\u001b[0m fset\u001b[38;5;241m=\u001b[39m\u001b[38;5;28mfrozenset\u001b[39m(s1)\n\u001b[0;32m      9\u001b[0m \u001b[38;5;28mprint\u001b[39m(fset)\n\u001b[1;32m---> 10\u001b[0m \u001b[43mfset\u001b[49m\u001b[38;5;241;43m.\u001b[39;49m\u001b[43madd\u001b[49m(\u001b[38;5;241m50\u001b[39m)\n",
      "\u001b[1;31mAttributeError\u001b[0m: 'frozenset' object has no attribute 'add'"
     ]
    }
   ],
   "source": [
    "#frozen set\n",
    "\"\"\"\n",
    "unordered\n",
    "unindexed\n",
    "immutable\n",
    "\"\"\"\n",
    "s1={1,2,3,4,5}\n",
    "fset=frozenset(s1)\n",
    "print(fset)\n",
    "fset.add(50)"
   ]
  },
  {
   "cell_type": "code",
   "execution_count": 15,
   "id": "c6949817",
   "metadata": {},
   "outputs": [
    {
     "name": "stdout",
     "output_type": "stream",
     "text": [
      "frozenset({1, 2, 3, 4, 5})\n",
      "frozenset({8, 5, 6, 7})\n"
     ]
    }
   ],
   "source": [
    "#list on tuple\n",
    "\n",
    "s1=[1,2,3,4,5]\n",
    "fs1=frozenset(s1)\n",
    "print(fs1)\n",
    "s2=(5,6,7,8)\n",
    "fs2=frozenset(s2)\n",
    "print(fs2)"
   ]
  },
  {
   "cell_type": "code",
   "execution_count": 16,
   "id": "75855a5b",
   "metadata": {},
   "outputs": [
    {
     "name": "stdout",
     "output_type": "stream",
     "text": [
      "frozenset({1, 2, 3, 4})\n",
      "1 in fs1: True\n",
      "5 on fs1: False\n"
     ]
    }
   ],
   "source": [
    "#membership operator\n",
    "\n",
    "fs1=frozenset({1,2,3,4})\n",
    "print(fs1)\n",
    "print(\"1 in fs1:\",1 in fs1)\n",
    "print(\"5 on fs1:\",5 in fs1)\n"
   ]
  },
  {
   "cell_type": "code",
   "execution_count": 17,
   "id": "a035e350",
   "metadata": {},
   "outputs": [
    {
     "name": "stdout",
     "output_type": "stream",
     "text": [
      "item: 1\n",
      "item: 2\n",
      "item: 3\n",
      "item: 4\n",
      "item: 5\n"
     ]
    }
   ],
   "source": [
    "#accending item\n",
    "\n",
    "fs1=frozenset({1,2,3,4,5})\n",
    "for i in fs1:\n",
    "    print(\"item:\",i)"
   ]
  },
  {
   "cell_type": "code",
   "execution_count": 18,
   "id": "89d9bc9e",
   "metadata": {},
   "outputs": [
    {
     "ename": "TypeError",
     "evalue": "unsupported operand type(s) for +: 'frozenset' and 'frozenset'",
     "output_type": "error",
     "traceback": [
      "\u001b[1;31m---------------------------------------------------------------------------\u001b[0m",
      "\u001b[1;31mTypeError\u001b[0m                                 Traceback (most recent call last)",
      "Input \u001b[1;32mIn [18]\u001b[0m, in \u001b[0;36m<cell line: 3>\u001b[1;34m()\u001b[0m\n\u001b[0;32m      1\u001b[0m fs1\u001b[38;5;241m=\u001b[39m\u001b[38;5;28mfrozenset\u001b[39m({\u001b[38;5;241m1\u001b[39m,\u001b[38;5;241m2\u001b[39m,\u001b[38;5;241m3\u001b[39m,\u001b[38;5;241m4\u001b[39m,\u001b[38;5;241m5\u001b[39m})\n\u001b[0;32m      2\u001b[0m fs2\u001b[38;5;241m=\u001b[39m\u001b[38;5;28mfrozenset\u001b[39m({\u001b[38;5;241m1\u001b[39m,\u001b[38;5;241m2\u001b[39m,\u001b[38;5;241m3\u001b[39m,\u001b[38;5;241m4\u001b[39m,\u001b[38;5;241m5\u001b[39m,\u001b[38;5;241m6\u001b[39m,\u001b[38;5;241m7\u001b[39m,\u001b[38;5;241m7\u001b[39m,\u001b[38;5;241m8\u001b[39m,\u001b[38;5;241m9\u001b[39m,\u001b[38;5;241m9\u001b[39m,\u001b[38;5;241m1\u001b[39m})\n\u001b[1;32m----> 3\u001b[0m \u001b[38;5;28mprint\u001b[39m(\u001b[43mfs1\u001b[49m\u001b[38;5;241;43m+\u001b[39;49m\u001b[43mfs2\u001b[49m)\n",
      "\u001b[1;31mTypeError\u001b[0m: unsupported operand type(s) for +: 'frozenset' and 'frozenset'"
     ]
    }
   ],
   "source": [
    "fs1=frozenset({1,2,3,4,5})\n",
    "fs2=frozenset({1,2,3,4,5,6,7,7,8,9,9,1})\n",
    "print(fs1+fs2)"
   ]
  },
  {
   "cell_type": "code",
   "execution_count": 19,
   "id": "94191edf",
   "metadata": {},
   "outputs": [
    {
     "name": "stdout",
     "output_type": "stream",
     "text": [
      "45\n",
      "40\n"
     ]
    }
   ],
   "source": [
    "l1=[1,2,3,4,5,6,7,8,9]\n",
    "print(sum(l1))\n",
    "print(sum(l1)-5)"
   ]
  },
  {
   "cell_type": "code",
   "execution_count": null,
   "id": "65b38bc0",
   "metadata": {},
   "outputs": [],
   "source": []
  },
  {
   "cell_type": "code",
   "execution_count": null,
   "id": "fe402c63",
   "metadata": {},
   "outputs": [],
   "source": []
  },
  {
   "cell_type": "code",
   "execution_count": null,
   "id": "44e164a2",
   "metadata": {},
   "outputs": [],
   "source": []
  }
 ],
 "metadata": {
  "kernelspec": {
   "display_name": "Python 3 (ipykernel)",
   "language": "python",
   "name": "python3"
  },
  "language_info": {
   "codemirror_mode": {
    "name": "ipython",
    "version": 3
   },
   "file_extension": ".py",
   "mimetype": "text/x-python",
   "name": "python",
   "nbconvert_exporter": "python",
   "pygments_lexer": "ipython3",
   "version": "3.9.12"
  }
 },
 "nbformat": 4,
 "nbformat_minor": 5
}
