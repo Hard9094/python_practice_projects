{
 "cells": [
  {
   "cell_type": "code",
   "execution_count": 12,
   "id": "a3435159",
   "metadata": {},
   "outputs": [
    {
     "name": "stdout",
     "output_type": "stream",
     "text": [
      "True\n"
     ]
    },
    {
     "data": {
      "text/plain": [
       "5"
      ]
     },
     "execution_count": 12,
     "metadata": {},
     "output_type": "execute_result"
    }
   ],
   "source": [
    "fh=open(\"new 1.txt\",\"w\")\n",
    "print(fh.writable())\n",
    "fh.write(\"hello\")"
   ]
  },
  {
   "cell_type": "code",
   "execution_count": 13,
   "id": "e2383a6b",
   "metadata": {},
   "outputs": [],
   "source": [
    "fh.write(\"good morning\")\n",
    "fh.close()"
   ]
  },
  {
   "cell_type": "code",
   "execution_count": 14,
   "id": "d6862570",
   "metadata": {},
   "outputs": [],
   "source": [
    "fh=open(\"new 1.txt\",\"w+\")\n",
    "fh.write(\"hoooiiii\")\n",
    "l=[\"edwigyw\\n\",\"ydkjau\\n\"]\n",
    "fh.writelines(l)\n",
    "fh.close()\n"
   ]
  },
  {
   "cell_type": "code",
   "execution_count": 15,
   "id": "a31b7b7f",
   "metadata": {},
   "outputs": [],
   "source": [
    "fh2=open(\"new 1.txt\",\"a\")\n",
    "l1=[\"oiedhodq\\n\",\"isdgcwgck\\n\"]\n",
    "fh2.writelines(l1)\n",
    "fh2.close()"
   ]
  },
  {
   "cell_type": "code",
   "execution_count": 16,
   "id": "a348da46",
   "metadata": {},
   "outputs": [
    {
     "name": "stdout",
     "output_type": "stream",
     "text": [
      "True\n",
      "hoooiiiiedwigyw\n",
      "ydkjau\n",
      "oiedhodq\n",
      "isdgcwgck\n",
      "\n"
     ]
    }
   ],
   "source": [
    "fh3=open(\"new 1.txt\",\"r\")\n",
    "print(fh3.readable())\n",
    "print(fh3.read())\n",
    "#print(fh3.readline())\n",
    "#print(fh3.readlines())\n",
    "fh3.close()\n"
   ]
  },
  {
   "cell_type": "code",
   "execution_count": 17,
   "id": "ddc5f151",
   "metadata": {},
   "outputs": [],
   "source": [
    "fh=open(\"new 1.txt\",\"r\")\n",
    "fh.readlines()\n",
    "fh.close()"
   ]
  },
  {
   "cell_type": "code",
   "execution_count": 7,
   "id": "316de2ad",
   "metadata": {},
   "outputs": [
    {
     "name": "stdout",
     "output_type": "stream",
     "text": [
      "hoooiiiiedwigyw\n",
      " ydkjau\n",
      " oiedhodq\n",
      " isdgcwgck\n",
      " 46\n"
     ]
    }
   ],
   "source": [
    "fh4=open(\"new 1.txt\",\"r\")\n",
    "for i in fh4:\n",
    "    print(i, end=\" \")\n",
    "print(fh4.tell())\n",
    "fh4.close()+\n"
   ]
  },
  {
   "cell_type": "code",
   "execution_count": 8,
   "id": "c824156a",
   "metadata": {},
   "outputs": [
    {
     "name": "stdout",
     "output_type": "stream",
     "text": [
      "hoooiiii\n",
      "BEFORE SEEK: 8\n",
      "True\n",
      "AFTER SEEK: 10\n"
     ]
    }
   ],
   "source": [
    "fh5=open(\"new 1.txt\",\"r\")\n",
    "print(fh5.read(8))\n",
    "print(\"BEFORE SEEK:\",fh5.tell())\n",
    "print(fh5.seekable())\n",
    "fh5.seek(10)\n",
    "print(\"AFTER SEEK:\",fh5.tell())\n",
    "fh5.close()"
   ]
  },
  {
   "cell_type": "code",
   "execution_count": 9,
   "id": "be6730ef",
   "metadata": {},
   "outputs": [],
   "source": [
    "f1=open(\"new2.txt\",\"a\")\n",
    "f1.truncate(7)\n",
    "f1.close()"
   ]
  },
  {
   "cell_type": "code",
   "execution_count": 10,
   "id": "bf12bdf5",
   "metadata": {},
   "outputs": [
    {
     "name": "stdout",
     "output_type": "stream",
     "text": [
      "jkagdya\n"
     ]
    }
   ],
   "source": [
    "f2=open(\"new2.txt\",\"r\")\n",
    "print(f2.read())\n",
    "f2.close()"
   ]
  },
  {
   "cell_type": "code",
   "execution_count": 11,
   "id": "c3d455cc",
   "metadata": {},
   "outputs": [],
   "source": [
    "#os moedule\n",
    "\n",
    "from os import*\n",
    "rename(\"new1.txt\",\"new.txt\")"
   ]
  },
  {
   "cell_type": "code",
   "execution_count": 12,
   "id": "c3ea0199",
   "metadata": {},
   "outputs": [],
   "source": [
    "remove(\"new.txt\")"
   ]
  },
  {
   "cell_type": "code",
   "execution_count": 13,
   "id": "0b2b583b",
   "metadata": {},
   "outputs": [
    {
     "name": "stdout",
     "output_type": "stream",
     "text": [
      "C:\\Users\\Lenovo\\Desktop\\PythonProjects\n"
     ]
    }
   ],
   "source": [
    "print(getcwd())"
   ]
  },
  {
   "cell_type": "code",
   "execution_count": 14,
   "id": "a4d501a4",
   "metadata": {},
   "outputs": [
    {
     "ename": "FileExistsError",
     "evalue": "[WinError 183] Cannot create a file when that file already exists: 'snehaa'",
     "output_type": "error",
     "traceback": [
      "\u001b[1;31m---------------------------------------------------------------------------\u001b[0m",
      "\u001b[1;31mFileExistsError\u001b[0m                           Traceback (most recent call last)",
      "\u001b[1;32m~\\AppData\\Local\\Temp\\ipykernel_106968\\403009823.py\u001b[0m in \u001b[0;36m<module>\u001b[1;34m\u001b[0m\n\u001b[1;32m----> 1\u001b[1;33m \u001b[0mmkdir\u001b[0m\u001b[1;33m(\u001b[0m\u001b[1;34m\"snehaa\"\u001b[0m\u001b[1;33m)\u001b[0m\u001b[1;33m\u001b[0m\u001b[1;33m\u001b[0m\u001b[0m\n\u001b[0m",
      "\u001b[1;31mFileExistsError\u001b[0m: [WinError 183] Cannot create a file when that file already exists: 'snehaa'"
     ]
    }
   ],
   "source": [
    "mkdir(\"snehaa\")"
   ]
  },
  {
   "cell_type": "code",
   "execution_count": null,
   "id": "7f10fbcd",
   "metadata": {},
   "outputs": [],
   "source": [
    "chdir(\"snehaa\")"
   ]
  },
  {
   "cell_type": "code",
   "execution_count": null,
   "id": "f3da13bf",
   "metadata": {},
   "outputs": [],
   "source": [
    "print(getcwd())"
   ]
  },
  {
   "cell_type": "code",
   "execution_count": null,
   "id": "192a5c7f",
   "metadata": {},
   "outputs": [],
   "source": [
    "mkdir(\"heheh\")"
   ]
  },
  {
   "cell_type": "code",
   "execution_count": null,
   "id": "7aef1f26",
   "metadata": {},
   "outputs": [],
   "source": [
    "print(getcwd())"
   ]
  },
  {
   "cell_type": "code",
   "execution_count": null,
   "id": "890bd89a",
   "metadata": {},
   "outputs": [],
   "source": [
    "chdir(\"heheh\")"
   ]
  },
  {
   "cell_type": "code",
   "execution_count": null,
   "id": "bfd34e99",
   "metadata": {},
   "outputs": [],
   "source": [
    "print(getcwd())"
   ]
  },
  {
   "cell_type": "code",
   "execution_count": null,
   "id": "cfb2ed5d",
   "metadata": {},
   "outputs": [],
   "source": []
  }
 ],
 "metadata": {
  "kernelspec": {
   "display_name": "Python 3 (ipykernel)",
   "language": "python",
   "name": "python3"
  },
  "language_info": {
   "codemirror_mode": {
    "name": "ipython",
    "version": 3
   },
   "file_extension": ".py",
   "mimetype": "text/x-python",
   "name": "python",
   "nbconvert_exporter": "python",
   "pygments_lexer": "ipython3",
   "version": "3.9.13"
  }
 },
 "nbformat": 4,
 "nbformat_minor": 5
}
