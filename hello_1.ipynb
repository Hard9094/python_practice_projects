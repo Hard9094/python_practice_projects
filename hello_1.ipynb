{
 "cells": [
  {
   "cell_type": "code",
   "execution_count": 1,
   "id": "731fb39d",
   "metadata": {},
   "outputs": [],
   "source": [
    "from IPython.display import HTML\n",
    "HTML('<iframe src=\"https://www.youtube.com/embed/4pR56Lvfdn8\" width=\"560\" height=\"315\" frameborder=\"0\"></iframe>')"
   ]
  },
  {
   "cell_type": "code",
   "execution_count": 2,
   "id": "355917ba",
   "metadata": {},
   "outputs": [],
   "source": [
    "%autocall 0"
   ]
  },
  {
   "cell_type": "code",
   "execution_count": 3,
   "id": "d43af41c",
   "metadata": {},
   "outputs": [],
   "source": [
    "def add(a,b):\n",
    "    c=a+b\n",
    "    print(c)"
   ]
  },
  {
   "cell_type": "code",
   "execution_count": 4,
   "id": "a1cf0d14",
   "metadata": {},
   "outputs": [],
   "source": [
    "def add(a,b):\n",
    "    c=a+b\n",
    "    print(c)"
   ]
  },
  {
   "cell_type": "code",
   "execution_count": 5,
   "id": "4ad22bbc",
   "metadata": {},
   "outputs": [],
   "source": [
    "add(10,10)"
   ]
  },
  {
   "cell_type": "code",
   "execution_count": 6,
   "id": "618dfbba",
   "metadata": {},
   "outputs": [],
   "source": [
    "%autocall 1"
   ]
  },
  {
   "cell_type": "code",
   "execution_count": 7,
   "id": "6e97e415",
   "metadata": {},
   "outputs": [],
   "source": [
    "add 10,10"
   ]
  },
  {
   "cell_type": "code",
   "execution_count": 8,
   "id": "d9615bf5",
   "metadata": {},
   "outputs": [],
   "source": [
    "%automagic 0 "
   ]
  },
  {
   "cell_type": "code",
   "execution_count": 9,
   "id": "80979922",
   "metadata": {},
   "outputs": [],
   "source": [
    "%pwd"
   ]
  },
  {
   "cell_type": "code",
   "execution_count": 10,
   "id": "adf894ed",
   "metadata": {},
   "outputs": [],
   "source": [
    "%automagic 1"
   ]
  },
  {
   "cell_type": "code",
   "execution_count": 11,
   "id": "8d47deac",
   "metadata": {},
   "outputs": [],
   "source": [
    "pwd"
   ]
  },
  {
   "cell_type": "code",
   "execution_count": 12,
   "id": "87f5a5cc",
   "metadata": {},
   "outputs": [],
   "source": [
    "%cd .."
   ]
  },
  {
   "cell_type": "code",
   "execution_count": 13,
   "id": "5b0bd6c0",
   "metadata": {},
   "outputs": [],
   "source": [
    "cd movies"
   ]
  },
  {
   "cell_type": "code",
   "execution_count": 14,
   "id": "0c812fcf",
   "metadata": {},
   "outputs": [],
   "source": [
    "%env"
   ]
  },
  {
   "cell_type": "code",
   "execution_count": 15,
   "id": "17cf88b7",
   "metadata": {},
   "outputs": [],
   "source": [
    "cd .. "
   ]
  },
  {
   "cell_type": "code",
   "execution_count": 16,
   "id": "e5567262",
   "metadata": {},
   "outputs": [],
   "source": [
    "cd desktop"
   ]
  },
  {
   "cell_type": "code",
   "execution_count": 17,
   "id": "5f633bee",
   "metadata": {},
   "outputs": [],
   "source": [
    "cd PythonProjects"
   ]
  },
  {
   "cell_type": "code",
   "execution_count": 18,
   "id": "00d33bfc",
   "metadata": {},
   "outputs": [],
   "source": [
    "%dhist"
   ]
  },
  {
   "cell_type": "code",
   "execution_count": 19,
   "id": "40cf6872",
   "metadata": {},
   "outputs": [],
   "source": [
    "%env"
   ]
  },
  {
   "cell_type": "code",
   "execution_count": 20,
   "id": "63384ec6",
   "metadata": {},
   "outputs": [],
   "source": [
    "%lsmagic"
   ]
  },
  {
   "cell_type": "code",
   "execution_count": 21,
   "id": "0f18b391",
   "metadata": {},
   "outputs": [],
   "source": [
    "run hello_1.ipynb"
   ]
  },
  {
   "cell_type": "code",
   "execution_count": 22,
   "id": "5c819704",
   "metadata": {},
   "outputs": [],
   "source": [
    "run hello_1.ipynb"
   ]
  },
  {
   "cell_type": "code",
   "execution_count": 23,
   "id": "a898c355",
   "metadata": {},
   "outputs": [],
   "source": [
    "run 1_hello.ipynb"
   ]
  },
  {
   "cell_type": "code",
   "execution_count": 24,
   "id": "431c3459",
   "metadata": {},
   "outputs": [],
   "source": [
    "%alias p echo"
   ]
  },
  {
   "cell_type": "code",
   "execution_count": 25,
   "id": "61f035ea",
   "metadata": {},
   "outputs": [],
   "source": [
    "p sneha"
   ]
  },
  {
   "cell_type": "code",
   "execution_count": 26,
   "id": "48b6e570",
   "metadata": {},
   "outputs": [],
   "source": [
    "%recall"
   ]
  },
  {
   "cell_type": "code",
   "execution_count": 27,
   "id": "42efbeab",
   "metadata": {},
   "outputs": [],
   "source": [
    "%recall"
   ]
  },
  {
   "cell_type": "code",
   "execution_count": 28,
   "id": "7418a0b9",
   "metadata": {},
   "outputs": [],
   "source": [
    "%recall"
   ]
  },
  {
   "cell_type": "code",
   "execution_count": 29,
   "id": "6ee0c890",
   "metadata": {},
   "outputs": [],
   "source": [
    "Available line magics:\n",
    "%alias  %alias_magic  %autoawait  %autocall  %automagic  %autosave  %bookmark  %cd  %clear  %cls  %colors  %conda  %config  %connect_info  %copy  %ddir  %debug  %dhist  %dirs  %doctest_mode  %echo  %ed  %edit  %env  %gui  %hist  %history  %killbgscripts  %ldir  %less  %load  %load_ext  %loadpy  %logoff  %logon  %logstart  %logstate  %logstop  %ls  %lsmagic  %macro  %magic  %matplotlib  %mkdir  %more  %notebook  %p  %page  %pastebin  %pdb  %pdef  %pdoc  %pfile  %pinfo  %pinfo2  %pip  %popd  %pprint  %precision  %prun  %psearch  %psource  %pushd  %pwd  %pycat  %pylab  %qtconsole  %quickref  %recall  %rehashx  %reload_ext  %ren  %rep  %rerun  %reset  %reset_selective  %rmdir  %run  %save  %sc  %set_env  %store  %sx  %system  %tb  %time  %timeit  %unalias  %unload_ext  %who  %who_ls  %whos  %xdel  %xmode\n",
    "\n",
    "Available cell magics:\n",
    "%%!  %%HTML  %%SVG  %%bash  %%capture  %%cmd  %%debug  %%file  %%html  %%javascript  %%js  %%latex  %%markdown  %%perl  %%prun  %%pypy  %%python  %%python2  %%python3  %%ruby  %%script  %%sh  %%svg  %%sx  %%system  %%time  %%timeit  %%writefile\n",
    "\n",
    "Automagic is ON, % prefix IS NOT needed for line magics."
   ]
  },
  {
   "cell_type": "code",
   "execution_count": 30,
   "id": "154c9b47",
   "metadata": {},
   "outputs": [],
   "source": [
    "%recall"
   ]
  }
 ],
 "metadata": {
  "kernelspec": {
   "display_name": "Python 3 (ipykernel)",
   "language": "python",
   "name": "python3"
  },
  "language_info": {
   "codemirror_mode": {
    "name": "ipython",
    "version": 3
   },
   "file_extension": ".py",
   "mimetype": "text/x-python",
   "name": "python",
   "nbconvert_exporter": "python",
   "pygments_lexer": "ipython3",
   "version": "3.9.13"
  }
 },
 "nbformat": 4,
 "nbformat_minor": 5
}
