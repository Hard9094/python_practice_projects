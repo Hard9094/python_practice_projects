{
 "cells": [
  {
   "cell_type": "code",
   "execution_count": 1,
   "id": "9fd4d77f",
   "metadata": {},
   "outputs": [
    {
     "name": "stdout",
     "output_type": "stream",
     "text": [
      "{'python': '13', 'ac': '34', 'java': '23'}\n"
     ]
    }
   ],
   "source": [
    "str1=\"python=13,ac=34,java=23\"\n",
    "lst=[]\n",
    "for x in str1.split(','):\n",
    "    y=x.split('=')\n",
    "    lst.append(y)\n",
    "d=dict(lst)\n",
    "print(d)"
   ]
  },
  {
   "cell_type": "code",
   "execution_count": 2,
   "id": "7b9d817b",
   "metadata": {},
   "outputs": [
    {
     "name": "stdout",
     "output_type": "stream",
     "text": [
      "{1: 'afdwe', 2: 'asdfds'}\n"
     ]
    }
   ],
   "source": [
    "d1={1:\"afdwe\",2:\"asdfds\"}\n",
    "print(d1)\n"
   ]
  },
  {
   "cell_type": "code",
   "execution_count": 3,
   "id": "f3d65d0e",
   "metadata": {},
   "outputs": [
    {
     "name": "stdout",
     "output_type": "stream",
     "text": [
      "sneha\n"
     ]
    }
   ],
   "source": [
    "d2={\"name\":\"sneha\",\"age\":19}\n",
    "print(d2[\"name\"])"
   ]
  },
  {
   "cell_type": "code",
   "execution_count": 4,
   "id": "37bf21c2",
   "metadata": {},
   "outputs": [
    {
     "name": "stdout",
     "output_type": "stream",
     "text": [
      "{'name': 'sneha', 'age': 26}\n"
     ]
    }
   ],
   "source": [
    "d2[\"age\"]=26\n",
    "print(d2)"
   ]
  },
  {
   "cell_type": "code",
   "execution_count": 5,
   "id": "1bf06090",
   "metadata": {},
   "outputs": [
    {
     "name": "stdout",
     "output_type": "stream",
     "text": [
      "{'name': 'sneha', 'age': 26, 10: 'ml'}\n"
     ]
    }
   ],
   "source": [
    "d2[10]=\"ml\"\n",
    "print(d2)"
   ]
  },
  {
   "cell_type": "code",
   "execution_count": 6,
   "id": "f23aea5d",
   "metadata": {},
   "outputs": [
    {
     "name": "stdout",
     "output_type": "stream",
     "text": [
      "{'name': 'sneha', 10: 'ml'}\n"
     ]
    }
   ],
   "source": [
    "del d2[\"age\"]\n",
    "print(d2)"
   ]
  },
  {
   "cell_type": "code",
   "execution_count": 7,
   "id": "efd9690e",
   "metadata": {},
   "outputs": [
    {
     "name": "stdout",
     "output_type": "stream",
     "text": [
      "True\n",
      "True\n",
      "key: 1\n",
      "value: 10\n",
      "key: 2\n",
      "value: 23\n",
      "key: 3\n",
      "value: 34\n",
      "key: k\n",
      "value: 24\n"
     ]
    }
   ],
   "source": [
    "d1={1:10,2:23,3:34,\"k\":24}\n",
    "print(1 in d1)\n",
    "print(\"k\" in d1)\n",
    "for i in d1:\n",
    "    print(\"key:\",i)\n",
    "    print(\"value:\",d1[i])"
   ]
  },
  {
   "cell_type": "code",
   "execution_count": 9,
   "id": "840cd837",
   "metadata": {},
   "outputs": [
    {
     "name": "stdout",
     "output_type": "stream",
     "text": [
      "{}\n"
     ]
    }
   ],
   "source": [
    "#inbuilt mehtods\n",
    "#clear\n",
    "\n",
    "d1={1:\"python\",2:\"java\"}\n",
    "d1.clear()\n",
    "print(d1)"
   ]
  },
  {
   "cell_type": "code",
   "execution_count": 10,
   "id": "9bfa4e5c",
   "metadata": {},
   "outputs": [
    {
     "name": "stdout",
     "output_type": "stream",
     "text": [
      "{1: 'python', 2: 'java'}\n"
     ]
    }
   ],
   "source": [
    "#copy\n",
    "\n",
    "d={1:\"python\",2:\"java\"}\n",
    "d1=d.copy()\n",
    "print(d1)"
   ]
  },
  {
   "cell_type": "code",
   "execution_count": 11,
   "id": "eabe24a7",
   "metadata": {},
   "outputs": [
    {
     "name": "stdout",
     "output_type": "stream",
     "text": [
      "python\n",
      "None\n"
     ]
    }
   ],
   "source": [
    "#get(return the value of key)\n",
    "\n",
    "d={1:\"python\",2:\"java\"}\n",
    "print(d.get(1))\n",
    "print(d.get(3))"
   ]
  },
  {
   "cell_type": "code",
   "execution_count": 12,
   "id": "2f384db3",
   "metadata": {},
   "outputs": [
    {
     "name": "stdout",
     "output_type": "stream",
     "text": [
      "dict_items([(1, 'python'), (2, 'java')])\n",
      "dict_keys([1, 2])\n",
      "dict_values(['python', 'java'])\n"
     ]
    }
   ],
   "source": [
    "#items \n",
    "\n",
    "d={1:\"python\",2:\"java\"}\n",
    "print(d.items())\n",
    "print(d.keys())\n",
    "print(d.values())"
   ]
  },
  {
   "cell_type": "code",
   "execution_count": 13,
   "id": "4cb7efa2",
   "metadata": {},
   "outputs": [
    {
     "name": "stdout",
     "output_type": "stream",
     "text": [
      "{1: 'python', 2: 'java'}\n",
      "python\n"
     ]
    },
    {
     "ename": "KeyError",
     "evalue": "30",
     "output_type": "error",
     "traceback": [
      "\u001b[1;31m---------------------------------------------------------------------------\u001b[0m",
      "\u001b[1;31mKeyError\u001b[0m                                  Traceback (most recent call last)",
      "Input \u001b[1;32mIn [13]\u001b[0m, in \u001b[0;36m<cell line: 4>\u001b[1;34m()\u001b[0m\n\u001b[0;32m      2\u001b[0m \u001b[38;5;28mprint\u001b[39m(d)\n\u001b[0;32m      3\u001b[0m \u001b[38;5;28mprint\u001b[39m(d\u001b[38;5;241m.\u001b[39mpop(\u001b[38;5;241m1\u001b[39m))\n\u001b[1;32m----> 4\u001b[0m \u001b[38;5;28mprint\u001b[39m(\u001b[43md\u001b[49m\u001b[38;5;241;43m.\u001b[39;49m\u001b[43mpop\u001b[49m\u001b[43m(\u001b[49m\u001b[38;5;241;43m30\u001b[39;49m\u001b[43m)\u001b[49m)\n",
      "\u001b[1;31mKeyError\u001b[0m: 30"
     ]
    }
   ],
   "source": [
    "#pop(key)\n",
    "print(d)\n",
    "print(d.pop(1))\n",
    "print(d.pop(30))\n"
   ]
  },
  {
   "cell_type": "code",
   "execution_count": 14,
   "id": "ddedea57",
   "metadata": {},
   "outputs": [
    {
     "name": "stdout",
     "output_type": "stream",
     "text": [
      "(4, 3462)\n"
     ]
    }
   ],
   "source": [
    "#popitem\n",
    "\n",
    "d={1:234,2:3425,3:4352,4:3462}\n",
    "print(d.popitem())"
   ]
  },
  {
   "cell_type": "code",
   "execution_count": 15,
   "id": "08bf2467",
   "metadata": {},
   "outputs": [
    {
     "name": "stdout",
     "output_type": "stream",
     "text": [
      "java\n",
      "ai\n",
      "{1: 'python', 2: 'java', 3: 'ai'}\n"
     ]
    }
   ],
   "source": [
    "#setdefault\n",
    "\n",
    "d={1:\"python\",2:\"java\"}\n",
    "print(d.setdefault(2,0))\n",
    "print(d.setdefault(3,\"ai\"))\n",
    "print(d)"
   ]
  },
  {
   "cell_type": "code",
   "execution_count": 16,
   "id": "65f84cc5",
   "metadata": {},
   "outputs": [
    {
     "name": "stdout",
     "output_type": "stream",
     "text": [
      "{1: 'python', 2: 'java', 3: 'ml', 4: 'edwadwewf'}\n",
      "{1: 'python', 2: 'java', 3: 'ml', 4: 'edwadwewf', 5: 'asf'}\n"
     ]
    }
   ],
   "source": [
    "d={1:\"python\",2:\"java\",3:\"ai\"}\n",
    "ud={3:\"ml\",4:\"edwadwewf\"}\n",
    "d.update(ud)\n",
    "print(d)\n",
    "d.update({5:\"asf\"})\n",
    "print(d)"
   ]
  },
  {
   "cell_type": "code",
   "execution_count": 17,
   "id": "4e42ba85",
   "metadata": {},
   "outputs": [
    {
     "name": "stdout",
     "output_type": "stream",
     "text": [
      "True\n",
      "True\n"
     ]
    }
   ],
   "source": [
    "#all \n",
    "d={1:\"python\",2:\"java\"}\n",
    "print(all(d))\n",
    "d1={}\n",
    "print(all(d1))"
   ]
  },
  {
   "cell_type": "code",
   "execution_count": 18,
   "id": "26058c8f",
   "metadata": {},
   "outputs": [
    {
     "name": "stdout",
     "output_type": "stream",
     "text": [
      "False\n",
      "True\n"
     ]
    }
   ],
   "source": [
    "#any\n",
    "\n",
    "d={}\n",
    "print(any(d))\n",
    "d={1:\"python\",2:\"java\"}\n",
    "print(any(d))"
   ]
  },
  {
   "cell_type": "code",
   "execution_count": 19,
   "id": "2a39c7bf",
   "metadata": {},
   "outputs": [
    {
     "name": "stdout",
     "output_type": "stream",
     "text": [
      "2\n"
     ]
    }
   ],
   "source": [
    "print(len(d))"
   ]
  },
  {
   "cell_type": "code",
   "execution_count": 20,
   "id": "ddd7a72e",
   "metadata": {},
   "outputs": [
    {
     "name": "stdout",
     "output_type": "stream",
     "text": [
      "[(2, 'orange'), (5, 'white'), (10, 'red'), (34, 'purple')]\n",
      "[(34, 'purple'), (10, 'red'), (5, 'white'), (2, 'orange')]\n",
      "[(5, 'white'), (10, 'red'), (34, 'purple'), (2, 'orange')]\n"
     ]
    }
   ],
   "source": [
    "color={10:\"red\",2:\"orange\",34:\"purple\",5:\"white\"}\n",
    "print(sorted(color.items(),key=lambda x:x[0]))#with key ASSENDING\n",
    "print(sorted(color.items(),reverse=True,key=lambda x:x[0]))#with key DECENDING\n",
    "print(sorted(color.items(),reverse=True,key=lambda x:x[1]))#with value\n"
   ]
  },
  {
   "cell_type": "code",
   "execution_count": null,
   "id": "d28304e1",
   "metadata": {},
   "outputs": [],
   "source": [
    "#"
   ]
  }
 ],
 "metadata": {
  "kernelspec": {
   "display_name": "Python 3 (ipykernel)",
   "language": "python",
   "name": "python3"
  },
  "language_info": {
   "codemirror_mode": {
    "name": "ipython",
    "version": 3
   },
   "file_extension": ".py",
   "mimetype": "text/x-python",
   "name": "python",
   "nbconvert_exporter": "python",
   "pygments_lexer": "ipython3",
   "version": "3.9.12"
  }
 },
 "nbformat": 4,
 "nbformat_minor": 5
}
