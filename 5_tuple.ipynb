{
 "cells": [
  {
   "cell_type": "code",
   "execution_count": 1,
   "id": "4d06a07b",
   "metadata": {},
   "outputs": [],
   "source": [
    "t1=(1,'qfef',5.2)"
   ]
  },
  {
   "cell_type": "code",
   "execution_count": 3,
   "id": "f6e16d6f",
   "metadata": {},
   "outputs": [
    {
     "name": "stdout",
     "output_type": "stream",
     "text": [
      "(1, 'qfef', 5.2)\n"
     ]
    }
   ],
   "source": [
    "print(t1)"
   ]
  },
  {
   "cell_type": "code",
   "execution_count": 10,
   "id": "a4597ae1",
   "metadata": {},
   "outputs": [
    {
     "name": "stdout",
     "output_type": "stream",
     "text": [
      "(3, 'hi')\n",
      "(1, 2, 3, 3, 'hi', 4.3)\n",
      "3\n",
      "(1, 2, 3, 4.3)\n"
     ]
    }
   ],
   "source": [
    "f1=(1,2,3)\n",
    "f2=(3,'hi',4.3)\n",
    "print(f2[0:2])\n",
    "print(f1+f2)\n",
    "print((f1+f2)[2])\n",
    "print(f1+f2[2:5])"
   ]
  },
  {
   "cell_type": "code",
   "execution_count": 11,
   "id": "7245c1cf",
   "metadata": {},
   "outputs": [
    {
     "name": "stdout",
     "output_type": "stream",
     "text": [
      "(2, 3, 4, 5, 6, 7, 8)\n",
      "2\n",
      "(3, 4, 5, 6, 7)\n",
      "(2, 3, 4)\n",
      "(3, 6)\n"
     ]
    }
   ],
   "source": [
    "t2=(2,3,4,5,6,7,8)\n",
    "print(t2[:])\n",
    "print(t2[0])\n",
    "print(t2[1:6])\n",
    "print(t2[:3])\n",
    "print(t2[1::3])"
   ]
  },
  {
   "cell_type": "code",
   "execution_count": 12,
   "id": "56144b7e",
   "metadata": {},
   "outputs": [
    {
     "name": "stdout",
     "output_type": "stream",
     "text": [
      "(10, 'python')\n",
      "10\n",
      "python\n"
     ]
    }
   ],
   "source": [
    "student=(10,'python',20,30,40)\n",
    "print(student[0:2])\n",
    "rno,sub=(student[0:2])\n",
    "print(rno)\n",
    "print(sub)\n"
   ]
  },
  {
   "cell_type": "code",
   "execution_count": 21,
   "id": "ffd34110",
   "metadata": {},
   "outputs": [
    {
     "name": "stdout",
     "output_type": "stream",
     "text": [
      "17\n",
      "345\n",
      "1\n",
      "(2, 3, 4, 5, 6, 7, 4, 2, 2, 4, 5, 3, 2, 345, 1, 3, 44)\n"
     ]
    },
    {
     "ename": "TypeError",
     "evalue": "'reverse' is an invalid keyword argument for print()",
     "output_type": "error",
     "traceback": [
      "\u001b[1;31m---------------------------------------------------------------------------\u001b[0m",
      "\u001b[1;31mTypeError\u001b[0m                                 Traceback (most recent call last)",
      "Input \u001b[1;32mIn [21]\u001b[0m, in \u001b[0;36m<cell line: 6>\u001b[1;34m()\u001b[0m\n\u001b[0;32m      4\u001b[0m \u001b[38;5;28mprint\u001b[39m(\u001b[38;5;28mmin\u001b[39m(t1))\n\u001b[0;32m      5\u001b[0m \u001b[38;5;28mprint\u001b[39m(t1)\n\u001b[1;32m----> 6\u001b[0m \u001b[38;5;28;43mprint\u001b[39;49m\u001b[43m(\u001b[49m\u001b[38;5;28;43msorted\u001b[39;49m\u001b[43m(\u001b[49m\u001b[43mt1\u001b[49m\u001b[43m)\u001b[49m\u001b[43m,\u001b[49m\u001b[43mreverse\u001b[49m\u001b[38;5;241;43m=\u001b[39;49m\u001b[38;5;28;43;01mTrue\u001b[39;49;00m\u001b[43m)\u001b[49m\n\u001b[0;32m      7\u001b[0m \u001b[38;5;28mprint\u001b[39m(t1)\n\u001b[0;32m      8\u001b[0m \u001b[38;5;28mprint\u001b[39m(\u001b[38;5;28msum\u001b[39m(t1))\n",
      "\u001b[1;31mTypeError\u001b[0m: 'reverse' is an invalid keyword argument for print()"
     ]
    }
   ],
   "source": [
    "t1=(2,3,4,5,6,7,4,2,2,4,5,3,2,345,1,3,44)\n",
    "print(len(t1))\n",
    "print(max(t1))\n",
    "print(min(t1))\n",
    "print(t1)\n",
    "print(sorted(t1))\n",
    "print(t1)\n",
    "print(sum(t1))\n",
    "\n",
    "print(t1)\n",
    "print(t1.index(3))\n",
    "print(t1.count(2))"
   ]
  },
  {
   "cell_type": "code",
   "execution_count": 19,
   "id": "8e8276ed",
   "metadata": {},
   "outputs": [
    {
     "name": "stdout",
     "output_type": "stream",
     "text": [
      "((90, 'ram', 300), (34, 'rhuahs', 345), (23, 'wefd', 346))\n",
      "345\n"
     ]
    }
   ],
   "source": [
    "#nested tuple\n",
    "emp=((90,'ram',300),(34,'rhuahs',345),(23,'wefd',346))\n",
    "print(emp)\n",
    "print(emp[1][2])"
   ]
  },
  {
   "cell_type": "code",
   "execution_count": 24,
   "id": "81b275bb",
   "metadata": {},
   "outputs": [
    {
     "name": "stdout",
     "output_type": "stream",
     "text": [
      "[1, 2, 3, 4, 5, 5, 6, 3]\n"
     ]
    },
    {
     "ename": "AttributeError",
     "evalue": "'tuple' object has no attribute 'append'",
     "output_type": "error",
     "traceback": [
      "\u001b[1;31m---------------------------------------------------------------------------\u001b[0m",
      "\u001b[1;31mAttributeError\u001b[0m                            Traceback (most recent call last)",
      "Input \u001b[1;32mIn [24]\u001b[0m, in \u001b[0;36m<cell line: 3>\u001b[1;34m()\u001b[0m\n\u001b[0;32m      1\u001b[0m T1\u001b[38;5;241m=\u001b[39m(\u001b[38;5;241m1\u001b[39m,\u001b[38;5;241m2\u001b[39m,\u001b[38;5;241m3\u001b[39m,\u001b[38;5;241m4\u001b[39m,\u001b[38;5;241m5\u001b[39m,\u001b[38;5;241m5\u001b[39m,\u001b[38;5;241m6\u001b[39m,\u001b[38;5;241m3\u001b[39m)\n\u001b[0;32m      2\u001b[0m \u001b[38;5;28mprint\u001b[39m(\u001b[38;5;28mlist\u001b[39m(T1))\n\u001b[1;32m----> 3\u001b[0m \u001b[43mT1\u001b[49m\u001b[38;5;241;43m.\u001b[39;49m\u001b[43mappend\u001b[49m(\u001b[38;5;241m8\u001b[39m)\n",
      "\u001b[1;31mAttributeError\u001b[0m: 'tuple' object has no attribute 'append'"
     ]
    }
   ],
   "source": [
    "T1=(1,2,3,4,5,5,6,3)\n",
    "print(list(T1))\n",
    "T1.append(8)"
   ]
  },
  {
   "cell_type": "code",
   "execution_count": 28,
   "id": "2610278f",
   "metadata": {},
   "outputs": [
    {
     "name": "stdout",
     "output_type": "stream",
     "text": [
      "(1, 2, 3, 4, 5, 5, 6, 3)\n"
     ]
    },
    {
     "ename": "TypeError",
     "evalue": "'tuple' object doesn't support item deletion",
     "output_type": "error",
     "traceback": [
      "\u001b[1;31m---------------------------------------------------------------------------\u001b[0m",
      "\u001b[1;31mTypeError\u001b[0m                                 Traceback (most recent call last)",
      "Input \u001b[1;32mIn [28]\u001b[0m, in \u001b[0;36m<cell line: 2>\u001b[1;34m()\u001b[0m\n\u001b[0;32m      1\u001b[0m \u001b[38;5;28mprint\u001b[39m(T1)\n\u001b[1;32m----> 2\u001b[0m \u001b[38;5;28;01mdel\u001b[39;00m(T1[\u001b[38;5;241m2\u001b[39m])\n",
      "\u001b[1;31mTypeError\u001b[0m: 'tuple' object doesn't support item deletion"
     ]
    }
   ],
   "source": [
    "print(T1)\n",
    "del(T1[2])"
   ]
  },
  {
   "cell_type": "code",
   "execution_count": 32,
   "id": "331a7c34",
   "metadata": {},
   "outputs": [
    {
     "name": "stdout",
     "output_type": "stream",
     "text": [
      "(1, 2, 3, 4, 5, 5, 6, 3)\n",
      "[3, 5]\n"
     ]
    }
   ],
   "source": [
    "print(T1)\n",
    "l1=list(range(3,7,2))#value\n",
    "print(l1)"
   ]
  },
  {
   "cell_type": "code",
   "execution_count": 35,
   "id": "f8b6f5d4",
   "metadata": {},
   "outputs": [
    {
     "name": "stdout",
     "output_type": "stream",
     "text": [
      "(1, 2, 3, 4, 5, 6, 7, 8)\n",
      "enter the number of value:5\n",
      "enter index:3\n",
      "(1, 2, 3, 5, 4, 5, 6, 7, 8)\n"
     ]
    }
   ],
   "source": [
    "num=(1,2,3,4,5,6,7,8)\n",
    "print(num)\n",
    "l1=[int(input(\"enter the number of value:\"))]\n",
    "new1=tuple(l1)\n",
    "i=int(input(\"enter index:\"))\n",
    "num1=num[0:i]\n",
    "num1=num1+new1\n",
    "num=num1+num[i:]\n",
    "print(num)"
   ]
  },
  {
   "cell_type": "code",
   "execution_count": null,
   "id": "d0dea47e",
   "metadata": {},
   "outputs": [],
   "source": [
    "n1=(1,2,4,8,9,10)\n",
    "#make a prg that do not print element 8\n",
    "#that do not print element after 8\n",
    "before 8 and after 8"
   ]
  }
 ],
 "metadata": {
  "kernelspec": {
   "display_name": "Python 3 (ipykernel)",
   "language": "python",
   "name": "python3"
  },
  "language_info": {
   "codemirror_mode": {
    "name": "ipython",
    "version": 3
   },
   "file_extension": ".py",
   "mimetype": "text/x-python",
   "name": "python",
   "nbconvert_exporter": "python",
   "pygments_lexer": "ipython3",
   "version": "3.9.12"
  }
 },
 "nbformat": 4,
 "nbformat_minor": 5
}
